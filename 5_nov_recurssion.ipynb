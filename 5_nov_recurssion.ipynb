{
 "cells": [
  {
   "cell_type": "raw",
   "id": "defec297-9baf-418a-89e7-6ce222d0139e",
   "metadata": {},
   "source": []
  },
  {
   "cell_type": "raw",
   "id": "ca18e2d4-5510-4abc-a14f-3844037e0759",
   "metadata": {},
   "source": [
    " Q.1  Can you explain the logic and working of the Tower of Hanoi algorithm by writing a python program? \n",
    "How does the recursion work, and how are the movements of disks between rods accomplished"
   ]
  },
  {
   "cell_type": "code",
   "execution_count": 12,
   "id": "49da2b57-b330-4755-a215-7ad15a3454ee",
   "metadata": {},
   "outputs": [
    {
     "name": "stdout",
     "output_type": "stream",
     "text": [
      "Move disk 1 from A to C\n",
      "Move disk 2 from A to B\n",
      "Move disk 1 from C to B\n",
      "Move disk 3 from A to C\n",
      "Move disk 1 from B to A\n",
      "Move disk 2 from B to C\n",
      "Move disk 1 from A to C\n"
     ]
    }
   ],
   "source": [
    "def tower_of_hanoi(n, source, auxiliary, destination):\n",
    "    if n == 1:\n",
    "        print(f\"Move disk 1 from {source} to {destination}\")\n",
    "        return\n",
    "    else:\n",
    "        tower_of_hanoi(n - 1, source, destination, auxiliary)\n",
    "        print(f\"Move disk {n} from {source} to {destination}\")\n",
    "        tower_of_hanoi(n - 1, auxiliary, source, destination)\n",
    "\n",
    "# Example usage\n",
    "num_disks = 3\n",
    "tower_of_hanoi(num_disks, \"A\", \"B\", \"C\")\n"
   ]
  },
  {
   "cell_type": "code",
   "execution_count": null,
   "id": "dfdabefe-fd30-404f-89ec-7a529ae0b684",
   "metadata": {},
   "outputs": [],
   "source": [
    "Q2. Given two strings word1 and word2, return the minimum number of operations required to convert word1    \n",
    "to word2.e"
   ]
  },
  {
   "cell_type": "code",
   "execution_count": null,
   "id": "03ed4048-af7c-484e-85a6-24e710b6f0a1",
   "metadata": {},
   "outputs": [],
   "source": [
    "def min_distance_recursive(word1, word2, i, j):\n",
    "    if i == len(word1):\n",
    "        return len(word2) - j\n",
    "    if j == len(word2):\n",
    "        return len(word1) - i\n",
    "\n",
    "    if word1[i] == word2[j]:\n",
    "        return min_distance_recursive(word1, word2, i + 1, j + 1)\n",
    "    else:\n",
    "        insert_op = 1 + min_distance_recursive(word1, word2, i, j + 1)\n",
    "        delete_op = 1 + min_distance_recursive(word1, word2, i + 1, j)\n",
    "        replace_op = 1 + min_distance_recursive(word1, word2, i + 1, j + 1)\n",
    "        return min(insert_op, delete_op, replace_op)\n",
    "\n",
    "# Example usage\n",
    "word1 = \"intention\"\n",
    "word2 = \"execution\"\n",
    "result = min_distance_recursive(word1, word2, 0, 0)\n",
    "print(f\"Minimum operations: {result}\")\n"
   ]
  },
  {
   "cell_type": "raw",
   "id": "0229a91d-d373-4b36-8db5-71ff03a9cd60",
   "metadata": {},
   "source": [
    "Q.3 Print the max value of the array [ 13, 1, -3, 22, 5]."
   ]
  },
  {
   "cell_type": "code",
   "execution_count": 14,
   "id": "9bd9c7a2-fb1c-41ea-a5d1-4fa0732caa6a",
   "metadata": {},
   "outputs": [
    {
     "name": "stdout",
     "output_type": "stream",
     "text": [
      "22\n"
     ]
    }
   ],
   "source": [
    "def maxarr(arr,n,m):\n",
    "    if n<0:\n",
    "        return m\n",
    "    if arr[n]>m:\n",
    "        m=arr[n]\n",
    "    return maxarr(arr,n-1,m)\n",
    "\n",
    "arr= [ 13, 1, -3, 22, 5]\n",
    "m=arr[0]\n",
    "n=len(arr)-1\n",
    "print(maxarr(arr,n,m))"
   ]
  },
  {
   "cell_type": "raw",
   "id": "f043d979-7a9a-4c8e-bd38-3095ed689a22",
   "metadata": {},
   "source": [
    "Q.4 Find the sum of the values of the array [92, 23, 15, -20, 10]"
   ]
  },
  {
   "cell_type": "code",
   "execution_count": 11,
   "id": "08a48cdd-cd6f-4cda-b2c9-5cafd39175ed",
   "metadata": {},
   "outputs": [
    {
     "data": {
      "text/plain": [
       "120"
      ]
     },
     "execution_count": 11,
     "metadata": {},
     "output_type": "execute_result"
    }
   ],
   "source": [
    "def sumarr(arr,n):\n",
    "    if n<0:\n",
    "        return 0\n",
    "    s=arr[n]\n",
    "    return s+sumarr(arr,n-1)\n",
    "\n",
    "arr=[92, 23, 15, -20, 10]\n",
    "n=len(arr)-1\n",
    "sumarr(arr,n)"
   ]
  },
  {
   "cell_type": "raw",
   "id": "b1fbf7ed-2b78-40ee-860e-ebf75bf724a9",
   "metadata": {},
   "source": [
    "Q.5 Given a number n. Print if it is an armstrong number or not.An armstrong number is a number if the sum \n",
    "of every digit in that number raised to the power of total digits in that number is equal to the number.\n",
    "Input 2 : 134\n",
    " Output2 : No"
   ]
  },
  {
   "cell_type": "code",
   "execution_count": 9,
   "id": "3372dd7c-142b-4a88-a026-087deee8e552",
   "metadata": {},
   "outputs": [
    {
     "name": "stdout",
     "output_type": "stream",
     "text": [
      "No\n"
     ]
    }
   ],
   "source": [
    "def armstrong(num):\n",
    "    if num==0:\n",
    "        return 0 \n",
    "    else:\n",
    "        r=num%10 \n",
    "        result=r*r*r+armstrong(num//10)\n",
    "        return result\n",
    "           \n",
    "num=123\n",
    "if armstrong(num)==num:\n",
    "    print(\"Yes\")\n",
    "else:\n",
    "    print(\"No\")"
   ]
  },
  {
   "cell_type": "code",
   "execution_count": 11,
   "id": "142b5531-5640-4d59-b26b-6a1452fb67ec",
   "metadata": {},
   "outputs": [
    {
     "name": "stdout",
     "output_type": "stream",
     "text": [
      "Minimum operations: 5\n"
     ]
    }
   ],
   "source": []
  },
  {
   "cell_type": "code",
   "execution_count": null,
   "id": "6395c30a-8fa3-4024-86c8-9bfc150f2070",
   "metadata": {},
   "outputs": [],
   "source": []
  }
 ],
 "metadata": {
  "kernelspec": {
   "display_name": "Python 3 (ipykernel)",
   "language": "python",
   "name": "python3"
  },
  "language_info": {
   "codemirror_mode": {
    "name": "ipython",
    "version": 3
   },
   "file_extension": ".py",
   "mimetype": "text/x-python",
   "name": "python",
   "nbconvert_exporter": "python",
   "pygments_lexer": "ipython3",
   "version": "3.10.8"
  }
 },
 "nbformat": 4,
 "nbformat_minor": 5
}
