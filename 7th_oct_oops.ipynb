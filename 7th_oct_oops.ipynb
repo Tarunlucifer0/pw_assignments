{
 "cells": [
  {
   "cell_type": "code",
   "execution_count": 1,
   "id": "f1ab2e09-709c-4c01-92d0-33c9ff37fbc9",
   "metadata": {},
   "outputs": [],
   "source": [
    "# Problem 1\n",
    "\n",
    "class bank_account:\n",
    "    def __init__(self,account_number, account_holder_name, balance):\n",
    "            self.account_number=account_number\n",
    "            self.account_holder_name=account_holder_name\n",
    "            self.balance=balance\n",
    "    \n",
    "    def deposit(self,deposit):\n",
    "        print(\"the deposit ammount is=\",deposit)\n",
    "        print(\"The Accout Holder's Details Are:\\nAccount Number=\",self.account_number,\"\\nAccount Holder Name=\",self.account_holder_name,\"\\nUpdated Balance=\",self.balance+deposit)\n",
    "        \n",
    "    def withdraw(self,withdraw):\n",
    "        print(\"the withdraw ammount is=\",withdraw)\n",
    "        print(\"The Accout Holder's Details Are:\\nAccount Number=\",self.account_number,\"\\nAccount Holder Name=\",self.account_holder_name,\"\\nUpdated Balance=\",self.balance-withdraw)"
   ]
  },
  {
   "cell_type": "code",
   "execution_count": 2,
   "id": "fa6f9ed0-0438-4a5e-818c-c7258b85a349",
   "metadata": {},
   "outputs": [],
   "source": [
    "tarun=bank_account(98764540001,\"Tarun pathak\",10000)"
   ]
  },
  {
   "cell_type": "code",
   "execution_count": 3,
   "id": "4e8bcba2-8a45-484d-abf7-4e3c72086613",
   "metadata": {},
   "outputs": [
    {
     "name": "stdout",
     "output_type": "stream",
     "text": [
      "the deposit ammount is= 500\n",
      "The Accout Holder's Details Are:\n",
      "Account Number= 98764540001 \n",
      "Account Holder Name= Tarun pathak \n",
      "Updated Balance= 10500\n"
     ]
    }
   ],
   "source": [
    "tarun.deposit(500)"
   ]
  },
  {
   "cell_type": "code",
   "execution_count": 4,
   "id": "694a2418-4b5b-4ab0-af79-97dc70410e1c",
   "metadata": {},
   "outputs": [
    {
     "name": "stdout",
     "output_type": "stream",
     "text": [
      "the withdraw ammount is= 1000\n",
      "The Accout Holder's Details Are:\n",
      "Account Number= 98764540001 \n",
      "Account Holder Name= Tarun pathak \n",
      "Updated Balance= 9000\n"
     ]
    }
   ],
   "source": [
    "tarun.withdraw(1000)"
   ]
  },
  {
   "cell_type": "code",
   "execution_count": 5,
   "id": "052d7a38-d59a-4d63-bddc-352e0ae664d4",
   "metadata": {},
   "outputs": [],
   "source": [
    "# Problem 2\n",
    "\n",
    "class employee:\n",
    "    def __init__(self, ID, name, salary):\n",
    "        self.ID=ID\n",
    "        self.name=name\n",
    "        self.salary=salary\n",
    "        \n",
    "    def calculate_bonus(self, bonus_parc):\n",
    "        print(\"The yearly bonus:\",self.salary*(bonus_parc/100))\n",
    "    \n",
    "    def employee_details(self):\n",
    "        print(\"Employee ID:\", self.ID)\n",
    "        print(\"Name:\", self.name)\n",
    "        print(\"Salary:\",self.salary)"
   ]
  },
  {
   "cell_type": "code",
   "execution_count": 6,
   "id": "c56c8292-bf65-4968-868e-28a02644b3fd",
   "metadata": {},
   "outputs": [],
   "source": [
    "tarun=employee(1,\"Tarun Pathak\",25000)"
   ]
  },
  {
   "cell_type": "code",
   "execution_count": 7,
   "id": "81c42f2c-d386-4fe3-8283-d336a5e42f5d",
   "metadata": {},
   "outputs": [
    {
     "name": "stdout",
     "output_type": "stream",
     "text": [
      "The yearly bonus: 2500.0\n",
      "Employee ID: 1\n",
      "Name: Tarun Pathak\n",
      "Salary: 25000\n"
     ]
    }
   ],
   "source": [
    "tarun.calculate_bonus(10)\n",
    "tarun.employee_details()"
   ]
  },
  {
   "cell_type": "code",
   "execution_count": 8,
   "id": "8e43e5f7-cbe6-4b76-91b6-f24d340603a7",
   "metadata": {},
   "outputs": [],
   "source": [
    "# problem 3\n",
    "\n",
    "class VehicleRental:\n",
    "    def __init__(self):\n",
    "        self.available_vehicles = {'car': 10, 'bike': 15, 'scooter': 8}\n",
    "\n",
    "    def rent_vehicle(self, vehicle_type):\n",
    "        if self.available_vehicles[vehicle_type] > 0:\n",
    "            self.available_vehicles[vehicle_type] -=1\n",
    "            print(vehicle_type,\"rented successfully.\")\n",
    "        else:\n",
    "            print(f\"No {vehicle_type}s available to rent.\")\n",
    "\n",
    "    def return_vehicle(self, vehicle_type):\n",
    "        self.available_vehicles[vehicle_type] += 1\n",
    "        print(vehicle_type, \"returned successfully.\")\n",
    "\n",
    "    def display_available_vehicles(self):\n",
    "        for vehicle, count in self.available_vehicles.items():\n",
    "            print(f\"{vehicle}: {count}\")\n"
   ]
  },
  {
   "cell_type": "code",
   "execution_count": 9,
   "id": "ebc86493-2aab-43ab-9750-a817a8692fc8",
   "metadata": {},
   "outputs": [
    {
     "name": "stdout",
     "output_type": "stream",
     "text": [
      "bike rented successfully.\n"
     ]
    }
   ],
   "source": [
    "rental = VehicleRental()\n",
    "rental.rent_vehicle('bike')"
   ]
  },
  {
   "cell_type": "code",
   "execution_count": 10,
   "id": "cb10cb40-faa8-459c-b1a2-cb1fad9639a1",
   "metadata": {},
   "outputs": [
    {
     "name": "stdout",
     "output_type": "stream",
     "text": [
      "car returned successfully.\n"
     ]
    }
   ],
   "source": [
    "rental.return_vehicle(\"car\")"
   ]
  },
  {
   "cell_type": "code",
   "execution_count": 11,
   "id": "9fad2cb8-de34-4d26-b21b-8a461e461d99",
   "metadata": {},
   "outputs": [
    {
     "name": "stdout",
     "output_type": "stream",
     "text": [
      "car: 11\n",
      "bike: 14\n",
      "scooter: 8\n"
     ]
    }
   ],
   "source": [
    "rental.display_available_vehicles()"
   ]
  },
  {
   "cell_type": "code",
   "execution_count": 12,
   "id": "86654a6c-e22b-4f3e-b869-0db419513794",
   "metadata": {},
   "outputs": [],
   "source": [
    "# Problem 4\n",
    "\n",
    "class books:\n",
    "    def __init__(self,title,author):\n",
    "        self.title=title\n",
    "        self.author=author\n",
    "        self.borrowed=False\n",
    "    def __repr__(self):\n",
    "        return f\"'{self.title}' by {self.author}\"\n",
    "        \n",
    "class library:\n",
    "    def __init__(self):\n",
    "            self.catalog=[]\n",
    "            \n",
    "    def add_book(self,book):\n",
    "        self.catalog.append(book)\n",
    "        print(book,\"Added into the catalog\")\n",
    "            \n",
    "    def borrow_book(self,title):\n",
    "        for book in self.catalog:\n",
    "            if book.title==title and not book.borrowed:\n",
    "                book.borrowed=True\n",
    "                print(\"You have borrowed \",book)\n",
    "                    \n",
    "    def return_book(self, title):\n",
    "        for book in self.catalog:\n",
    "            if book.title == title and book.borrowed:\n",
    "                book.borrowed = False\n",
    "                print(\"You have returned\",book)\n",
    "               \n",
    "    def display_available_books(self):\n",
    "        available_books = [book for book in self.catalog if not book.borrowed]\n",
    "        print(\"Available books:\")\n",
    "        for book in available_books:\n",
    "            print(book)\n",
    "    "
   ]
  },
  {
   "cell_type": "code",
   "execution_count": 13,
   "id": "3904402a-4688-44f9-b3c1-2e71bd22c902",
   "metadata": {},
   "outputs": [],
   "source": [
    "lib=library()"
   ]
  },
  {
   "cell_type": "code",
   "execution_count": 14,
   "id": "e432ed48-42f1-4a38-9179-232e1269dd4d",
   "metadata": {},
   "outputs": [
    {
     "name": "stdout",
     "output_type": "stream",
     "text": [
      "'Master of DSA' by Nil Calsen Added into the catalog\n"
     ]
    }
   ],
   "source": [
    "lib.add_book(books(\"Master of DSA\",\"Nil Calsen\"))"
   ]
  },
  {
   "cell_type": "code",
   "execution_count": 15,
   "id": "48d88100-0504-4aa1-a6f8-644e38200a8b",
   "metadata": {},
   "outputs": [
    {
     "name": "stdout",
     "output_type": "stream",
     "text": [
      "'The Great Gatsby' by F. Scott Fitzgerald Added into the catalog\n"
     ]
    }
   ],
   "source": [
    "lib.add_book(books(\"The Great Gatsby\", \"F. Scott Fitzgerald\"))"
   ]
  },
  {
   "cell_type": "code",
   "execution_count": 16,
   "id": "6ceb6eb8-866e-4df6-8d05-60c4cab479cc",
   "metadata": {},
   "outputs": [
    {
     "name": "stdout",
     "output_type": "stream",
     "text": [
      "You have borrowed  'Master of DSA' by Nil Calsen\n"
     ]
    }
   ],
   "source": [
    "lib.borrow_book(\"Master of DSA\")"
   ]
  },
  {
   "cell_type": "code",
   "execution_count": 17,
   "id": "60f8714d-c3af-4beb-b41c-8e64bee45079",
   "metadata": {},
   "outputs": [
    {
     "name": "stdout",
     "output_type": "stream",
     "text": [
      "You have returned 'Master of DSA' by Nil Calsen\n"
     ]
    }
   ],
   "source": [
    "lib.return_book(\"Master of DSA\")"
   ]
  },
  {
   "cell_type": "code",
   "execution_count": 18,
   "id": "2eb47f54-4296-4119-9d51-6d6aa3917fa4",
   "metadata": {},
   "outputs": [
    {
     "name": "stdout",
     "output_type": "stream",
     "text": [
      "Available books:\n",
      "'Master of DSA' by Nil Calsen\n",
      "'The Great Gatsby' by F. Scott Fitzgerald\n"
     ]
    }
   ],
   "source": [
    "lib.display_available_books()"
   ]
  },
  {
   "cell_type": "code",
   "execution_count": 19,
   "id": "365244c4-75c2-41a6-91a7-7b1d264180dd",
   "metadata": {},
   "outputs": [],
   "source": [
    "# Problem 5\n",
    "\n",
    "class Product:\n",
    "    def __init__(self, name, quantity):\n",
    "        self.name = name\n",
    "        self.quantity = quantity\n",
    "\n",
    "    def __str__(self):\n",
    "        return f\"{self.name} (Quantity: {self.quantity})\"\n",
    "\n",
    "class Inventory:\n",
    "    def __init__(self):\n",
    "        self.products = {}\n",
    "\n",
    "    def add_product(self, name, quantity):\n",
    "        if name in self.products:\n",
    "            self.products[name].quantity += quantity\n",
    "        else:\n",
    "            self.products[name] = Product(name, quantity)\n",
    "        print(f\"Added or updated product: {self.products[name]}\")\n",
    "\n",
    "    def update_quantity(self, name, quantity):\n",
    "        if name in self.products:\n",
    "            self.products[name].quantity = quantity\n",
    "            print(f\"Updated quantity for {name}: {self.products[name].quantity}\")\n",
    "        else:\n",
    "            print(f\"Product {name} not found in inventory.\")\n",
    "\n",
    "    def display_products(self):\n",
    "        print(\"Inventory Products:\")\n",
    "        for product in self.products.values():\n",
    "            print(product)\n"
   ]
  },
  {
   "cell_type": "code",
   "execution_count": 20,
   "id": "bdf7ae3c-20c6-47fb-a8a0-7a480a5238e5",
   "metadata": {},
   "outputs": [],
   "source": [
    "inventory = Inventory()"
   ]
  },
  {
   "cell_type": "code",
   "execution_count": 21,
   "id": "0748860f-553f-4666-97b4-43c113e74602",
   "metadata": {},
   "outputs": [
    {
     "name": "stdout",
     "output_type": "stream",
     "text": [
      "Added or updated product: Laptop (Quantity: 10)\n",
      "Added or updated product: Smartphone (Quantity: 15)\n"
     ]
    }
   ],
   "source": [
    "inventory.add_product('Laptop', 10)\n",
    "inventory.add_product('Smartphone', 15)"
   ]
  },
  {
   "cell_type": "code",
   "execution_count": 22,
   "id": "20a5e53b-91ab-47af-a46e-5c6501a71ece",
   "metadata": {},
   "outputs": [
    {
     "name": "stdout",
     "output_type": "stream",
     "text": [
      "Inventory Products:\n",
      "Laptop (Quantity: 10)\n",
      "Smartphone (Quantity: 15)\n"
     ]
    }
   ],
   "source": [
    "inventory.display_products()"
   ]
  },
  {
   "cell_type": "code",
   "execution_count": 23,
   "id": "fab1e194-7e0b-43bc-bd83-bd06b69b7521",
   "metadata": {},
   "outputs": [],
   "source": [
    "# Problem 6\n",
    "\n",
    "class shape:\n",
    "    def __init__(self,length,width,height):\n",
    "        self.length=length\n",
    "        self.width=width\n",
    "        self.height=height\n",
    "        \n",
    "    def area_of_rectangle(self):\n",
    "        return self.length*self.width\n",
    "    \n",
    "    def perameter_of_rectangle(self):\n",
    "        return 2*(self.length+self.width)\n",
    "    \n",
    "    "
   ]
  },
  {
   "cell_type": "code",
   "execution_count": 24,
   "id": "a938d0c4-36fe-4432-bbb8-48d4ebbb5584",
   "metadata": {},
   "outputs": [],
   "source": [
    "calc=shape(4,5,0)"
   ]
  },
  {
   "cell_type": "code",
   "execution_count": 25,
   "id": "61525b4a-4b18-4584-be96-526649c23068",
   "metadata": {},
   "outputs": [
    {
     "data": {
      "text/plain": [
       "20"
      ]
     },
     "execution_count": 25,
     "metadata": {},
     "output_type": "execute_result"
    }
   ],
   "source": [
    "calc.area_of_rectangle()"
   ]
  },
  {
   "cell_type": "code",
   "execution_count": 26,
   "id": "4e22ae6d-7f40-406c-bcfa-4441a260f6e0",
   "metadata": {},
   "outputs": [
    {
     "data": {
      "text/plain": [
       "18"
      ]
     },
     "execution_count": 26,
     "metadata": {},
     "output_type": "execute_result"
    }
   ],
   "source": [
    "calc.perameter_of_rectangle()"
   ]
  },
  {
   "cell_type": "code",
   "execution_count": 28,
   "id": "d6631056-2cb7-4bd8-a936-aaefc40fa27d",
   "metadata": {},
   "outputs": [],
   "source": [
    "# Problem 7\n",
    "class student:\n",
    "    def __init__(self, ID, name, grade):\n",
    "        self.ID=ID\n",
    "        self.name=name\n",
    "        self.grade=grade\n",
    "        \n",
    "    def avg_grade(self):\n",
    "        return sum(self.grade)/len(self.grade)\n",
    "    \n",
    "    def display_dtl(self):\n",
    "        print(\"The student details are:\")\n",
    "        print(\"ID:\",self.ID)\n",
    "        print(\"Name:\",self.name)\n",
    "        print(\"Grade:\",self.grade)\n",
    "        "
   ]
  },
  {
   "cell_type": "code",
   "execution_count": 29,
   "id": "8950c17b-f004-4472-b4a0-26308b441230",
   "metadata": {},
   "outputs": [],
   "source": [
    "tarun=student(1,\"Tarun\",[67,75,71,68,78])"
   ]
  },
  {
   "cell_type": "code",
   "execution_count": 30,
   "id": "55c49111-c61c-4bf1-889d-a1628c9f4481",
   "metadata": {},
   "outputs": [
    {
     "data": {
      "text/plain": [
       "71.8"
      ]
     },
     "execution_count": 30,
     "metadata": {},
     "output_type": "execute_result"
    }
   ],
   "source": [
    "tarun.avg_grade()"
   ]
  },
  {
   "cell_type": "code",
   "execution_count": 31,
   "id": "d919a673-e250-472e-b090-287e5cc7dd62",
   "metadata": {},
   "outputs": [
    {
     "name": "stdout",
     "output_type": "stream",
     "text": [
      "The student details are:\n",
      "ID: 1\n",
      "Name: Tarun\n",
      "Grade: [67, 75, 71, 68, 78]\n"
     ]
    }
   ],
   "source": [
    "tarun.display_dtl()"
   ]
  },
  {
   "cell_type": "code",
   "execution_count": 32,
   "id": "02544a1f-75bd-46f1-8a87-b36f5b52373e",
   "metadata": {},
   "outputs": [],
   "source": [
    "# Problem 8\n",
    "\n",
    "class email:\n",
    "    def __init__(self,sender,recipent,subject):\n",
    "        self.sender=sender\n",
    "        self.recipent=recipent\n",
    "        self.subject=subject\n",
    "        \n",
    "    def send_email(self):\n",
    "        username=input(\"Enter your username\")\n",
    "        if username==self.sender:\n",
    "            print(\"A valid user.\")\n",
    "            msg=input(\"Enter you message\")\n",
    "            print(\"your msg send successfully\")\n",
    "        else:\n",
    "            print(\"Not a valid user\")\n",
    "            \n",
    "    def email_dtl(self):\n",
    "        print(\"the email details are:\")\n",
    "        print(\"The sender:\",self.sender)\n",
    "        print(\"The recipent:\",self.recipent)\n",
    "        print(\"The subject is:\",self.subject)\n",
    "        \n",
    "        "
   ]
  },
  {
   "cell_type": "code",
   "execution_count": 33,
   "id": "a0f01637-8dfd-4b09-96bf-9029e9afc8dc",
   "metadata": {},
   "outputs": [],
   "source": [
    "obj=email(\"tarun@123.com\",\"rohit\",\"student meating\")"
   ]
  },
  {
   "cell_type": "code",
   "execution_count": null,
   "id": "cc6ed48b-a97c-4eba-b75f-3d6a3a39351c",
   "metadata": {},
   "outputs": [
    {
     "name": "stdin",
     "output_type": "stream",
     "text": [
      "Enter your username tarun@123.com\n"
     ]
    },
    {
     "name": "stdout",
     "output_type": "stream",
     "text": [
      "A valid user.\n"
     ]
    }
   ],
   "source": [
    "obj.send_email()"
   ]
  },
  {
   "cell_type": "code",
   "execution_count": 66,
   "id": "15e8b513-8231-4327-bc08-fba6cf43a9ea",
   "metadata": {},
   "outputs": [
    {
     "name": "stdin",
     "output_type": "stream",
     "text": [
      "Enter your username tarun@123.com\n"
     ]
    },
    {
     "name": "stdout",
     "output_type": "stream",
     "text": [
      "A valid user.\n"
     ]
    },
    {
     "name": "stdin",
     "output_type": "stream",
     "text": [
      "Enter you message Hello there...! we are back\n"
     ]
    },
    {
     "name": "stdout",
     "output_type": "stream",
     "text": [
      "your msg send successfully\n"
     ]
    }
   ],
   "source": [
    "obj.send_email()"
   ]
  },
  {
   "cell_type": "code",
   "execution_count": 73,
   "id": "ffb648cf-0795-46bb-b2a2-105d3f8ee6c1",
   "metadata": {},
   "outputs": [
    {
     "name": "stdout",
     "output_type": "stream",
     "text": [
      "the email details are:\n",
      "The sender: tarun@123.com\n",
      "The recipent: rohit\n",
      "The subject is: student meating\n"
     ]
    }
   ],
   "source": [
    "obj.email_dtl()"
   ]
  },
  {
   "cell_type": "code",
   "execution_count": 1,
   "id": "8bb56d93-85db-4814-aef4-2e0f6e5e062e",
   "metadata": {},
   "outputs": [],
   "source": [
    "# Problem 9\n",
    "\n",
    "class profile:\n",
    "    def __init__(self, username):\n",
    "        self.username=username\n",
    "        self.posts=[]\n",
    "        \n",
    "    def add_post(self,new_post):\n",
    "        self.posts.append(new_post)\n",
    "        print(\"A new post added\",new_post)\n",
    "        \n",
    "    def display_posts(self):\n",
    "        print(\"All post by\",self.username)\n",
    "        for post in self.posts:\n",
    "            print(post)\n",
    "            \n",
    "    def search_post(self):\n",
    "        key=input(\"enter the keyword for searching post\")\n",
    "        for post in self.posts:\n",
    "            if key.lower() in post.lower():\n",
    "                print(post)\n",
    "            \n",
    "        "
   ]
  },
  {
   "cell_type": "code",
   "execution_count": 2,
   "id": "7462a9bb-4168-469d-a9ac-947042e0bf25",
   "metadata": {},
   "outputs": [],
   "source": [
    "Tarun=profile(\"tarun_pathak007\")"
   ]
  },
  {
   "cell_type": "code",
   "execution_count": 3,
   "id": "9fc6c122-c49a-47ac-a77e-eb2f62c013a5",
   "metadata": {},
   "outputs": [
    {
     "name": "stdout",
     "output_type": "stream",
     "text": [
      "A new post added This is my first post\n",
      "A new post added Add a image\n"
     ]
    }
   ],
   "source": [
    "Tarun.add_post(\"This is my first post\")\n",
    "Tarun.add_post(\"Add a image\")"
   ]
  },
  {
   "cell_type": "code",
   "execution_count": 5,
   "id": "a5db6f19-77f9-40d0-8af7-8d20a88656c7",
   "metadata": {},
   "outputs": [
    {
     "name": "stdout",
     "output_type": "stream",
     "text": [
      "All post by tarun_pathak007\n",
      "This is my first post\n",
      "Add a image\n"
     ]
    }
   ],
   "source": [
    "Tarun.display_posts()"
   ]
  },
  {
   "cell_type": "code",
   "execution_count": 6,
   "id": "f09cd14c-53bc-462b-b710-238e437ca9f2",
   "metadata": {},
   "outputs": [
    {
     "name": "stdin",
     "output_type": "stream",
     "text": [
      "enter the keyword for searching post image\n"
     ]
    },
    {
     "name": "stdout",
     "output_type": "stream",
     "text": [
      "Add a image\n"
     ]
    }
   ],
   "source": [
    "Tarun.search_post()"
   ]
  },
  {
   "cell_type": "code",
   "execution_count": 28,
   "id": "5046cc47-659c-4519-8208-a47af66e8eed",
   "metadata": {},
   "outputs": [],
   "source": [
    "# Problem 10\n",
    "\n",
    "class todo:\n",
    "    def __init__(self):\n",
    "        self.total_task={}\n",
    "        \n",
    "    def add_task(self):\n",
    "        new_task=input(\"Enter the new task\")\n",
    "        due_date=input(\"Enter due date of task\")\n",
    "        self.total_task[new_task]=due_date\n",
    "        print(\"Task have been added\")\n",
    "        \n",
    "    def mark_task(self):\n",
    "        task=input(\"Enter the task for mark\")\n",
    "        if task in self.total_task:\n",
    "            print(\"The task has completed\")\n",
    "            self.total_task.pop(task)\n",
    "            \n",
    "        else:\n",
    "            print(\"this task is not available.\")\n",
    "            \n",
    "    def pending_tasks(self):\n",
    "        print(\"All pending tasks are: \")\n",
    "        print(self.total_task)"
   ]
  },
  {
   "cell_type": "code",
   "execution_count": 29,
   "id": "74a59818-2d56-4cbd-92ad-3e44e41c589c",
   "metadata": {},
   "outputs": [],
   "source": [
    "mylist=todo()"
   ]
  },
  {
   "cell_type": "code",
   "execution_count": 32,
   "id": "629a89f1-6436-4b4d-bb45-e8932b53b7d9",
   "metadata": {},
   "outputs": [
    {
     "name": "stdin",
     "output_type": "stream",
     "text": [
      "Enter the new task farewell\n",
      "Enter due date of task 15 may\n"
     ]
    },
    {
     "name": "stdout",
     "output_type": "stream",
     "text": [
      "Task have been added\n"
     ]
    }
   ],
   "source": [
    "mylist.add_task()"
   ]
  },
  {
   "cell_type": "code",
   "execution_count": 33,
   "id": "bec9d394-0dd1-4746-8191-3408c2efc217",
   "metadata": {},
   "outputs": [
    {
     "name": "stdout",
     "output_type": "stream",
     "text": [
      "All pending tasks are: \n",
      "{'pw assignment': '5 april', 'AI assignment': '15 april', 'farewell': '15 may'}\n"
     ]
    }
   ],
   "source": [
    "mylist.pending_tasks()"
   ]
  },
  {
   "cell_type": "code",
   "execution_count": 34,
   "id": "2305d5e6-5f88-4672-a752-fed3b092dac2",
   "metadata": {},
   "outputs": [
    {
     "name": "stdin",
     "output_type": "stream",
     "text": [
      "Enter the task for mark pw assignment\n"
     ]
    },
    {
     "name": "stdout",
     "output_type": "stream",
     "text": [
      "The task has completed\n"
     ]
    }
   ],
   "source": [
    "mylist.mark_task()"
   ]
  },
  {
   "cell_type": "code",
   "execution_count": 35,
   "id": "6314c95b-46f4-4f25-9db0-681ea7e1129c",
   "metadata": {},
   "outputs": [
    {
     "name": "stdout",
     "output_type": "stream",
     "text": [
      "All pending tasks are: \n",
      "{'AI assignment': '15 april', 'farewell': '15 may'}\n"
     ]
    }
   ],
   "source": [
    "mylist.pending_tasks()"
   ]
  },
  {
   "cell_type": "code",
   "execution_count": null,
   "id": "24de675f-7f15-41a0-b933-a2fe6a42ec2d",
   "metadata": {},
   "outputs": [],
   "source": []
  }
 ],
 "metadata": {
  "kernelspec": {
   "display_name": "Python 3 (ipykernel)",
   "language": "python",
   "name": "python3"
  },
  "language_info": {
   "codemirror_mode": {
    "name": "ipython",
    "version": 3
   },
   "file_extension": ".py",
   "mimetype": "text/x-python",
   "name": "python",
   "nbconvert_exporter": "python",
   "pygments_lexer": "ipython3",
   "version": "3.10.8"
  }
 },
 "nbformat": 4,
 "nbformat_minor": 5
}
