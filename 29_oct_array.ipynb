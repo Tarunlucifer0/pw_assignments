{
 "cells": [
  {
   "cell_type": "code",
   "execution_count": 8,
   "id": "8bdd9859-355e-4bc6-975e-88d453f753c1",
   "metadata": {},
   "outputs": [
    {
     "name": "stdout",
     "output_type": "stream",
     "text": [
      "2  is the duplicate number\n"
     ]
    }
   ],
   "source": [
    "##1. Given an array, check if it contains any duplicates or not. \n",
    "## arr = [1, 2, 4, 2, 5, 9] \n",
    "##Output = True  \n",
    "\n",
    "def duplicate(arr):\n",
    "    n=len(arr)\n",
    "    for i in range(n):\n",
    "        for j in range(i+1,n):\n",
    "            if arr[i]==arr[j]:\n",
    "                print(arr[j],\" is the duplicate number\")\n",
    "\n",
    "arr = [1, 2, 4, 2, 5, 9] \n",
    "result=duplicate(arr)\n"
   ]
  },
  {
   "cell_type": "raw",
   "id": "606d426b-c2e9-485e-a042-57fd630745c1",
   "metadata": {},
   "source": [
    "2. Given an array and an integer k, rotate the array to the right by k steps. \n",
    "arr = [1, 2, 3, 4, 5, 6, 7] k = 3 \n",
    "Output = [5, 6, 7, 1, 2, 3, 4]"
   ]
  },
  {
   "cell_type": "code",
   "execution_count": 7,
   "id": "9b0db629-6506-47ff-aadd-85792a1155e2",
   "metadata": {},
   "outputs": [
    {
     "data": {
      "text/plain": [
       "[5, 6, 7, 1, 2, 3, 4]"
      ]
     },
     "execution_count": 7,
     "metadata": {},
     "output_type": "execute_result"
    }
   ],
   "source": [
    "def rotate(arr,start,end):\n",
    "    \n",
    "    while start<end:\n",
    "        temp=arr[start]\n",
    "        arr[start]=arr[end]\n",
    "        arr[end]=temp\n",
    "        \n",
    "        start+=1\n",
    "        end-=1 \n",
    "        \n",
    "arr = [1, 2, 3, 4, 5, 6, 7]       \n",
    "n=len(arr)\n",
    "k=3\n",
    "rotate(arr,0,n-1)\n",
    "rotate(arr,0,k-1)\n",
    "rotate(arr,k,n-1)\n",
    "arr\n"
   ]
  },
  {
   "cell_type": "raw",
   "id": "343404a3-acbf-45a7-8373-e46bc2e7e8bd",
   "metadata": {},
   "source": [
    "3. Reverse the given array in-place, means without using any extra data structure. \n",
    "arr = [2, 4, 5, 7, 9, 12] \n",
    "Output = [12, 9, 7, 5, 4, 2]"
   ]
  },
  {
   "cell_type": "code",
   "execution_count": 5,
   "id": "687560a3-7102-4a8b-b6ad-c3a485c4130b",
   "metadata": {},
   "outputs": [
    {
     "name": "stdout",
     "output_type": "stream",
     "text": [
      "[12, 9, 7, 5, 4, 2]\n"
     ]
    }
   ],
   "source": [
    "def revarray(arr):\n",
    "    start=0\n",
    "    end=len(arr)-1\n",
    "    \n",
    "    while start<end:\n",
    "        temp=arr[start]\n",
    "        arr[start]=arr[end]\n",
    "        arr[end]=temp\n",
    "        \n",
    "        start+=1\n",
    "        end-=1\n",
    "       \n",
    "    \n",
    "arr = [2, 4, 5, 7, 9, 12] \n",
    "revarray(arr)\n",
    "print(arr)"
   ]
  },
  {
   "cell_type": "raw",
   "id": "443e42ee-a40c-4b83-83df-530a8e24aa99",
   "metadata": {},
   "source": [
    " Given an array of integers, find the maximum element in an array\n",
    " arr = [10, 5, 20, 8, 15]\n",
    " Output = 20"
   ]
  },
  {
   "cell_type": "code",
   "execution_count": 4,
   "id": "368f4dcf-a1fd-4b74-8d9b-a399a2ed9d34",
   "metadata": {},
   "outputs": [
    {
     "name": "stdout",
     "output_type": "stream",
     "text": [
      "max number in array is  20\n"
     ]
    }
   ],
   "source": [
    "def maxfunc(arr):\n",
    "    n=len(arr)\n",
    "    k=0\n",
    "    \n",
    "    for i in range(n):\n",
    "        for j in range(i+1,n):\n",
    "            if arr[i]>arr[j]:\n",
    "                k= arr[i]\n",
    "    return k\n",
    "                \n",
    "arr = [10, 5, 20, 8, 15]\n",
    "result=maxfunc(arr)\n",
    "print(\"max number in array is \",result)"
   ]
  },
  {
   "cell_type": "raw",
   "id": "90cc754e-df4b-4386-b52b-d16bd3fbeb96",
   "metadata": {},
   "source": [
    "5. Given a sorted array, remove the duplicate element without using any extra data structure. \n",
    "arr = [1, 1, 2, 2, 2, 3, 3, 4, 4, 4, 5, 5] \n",
    "Output = [1, 2, 3, 4, 5]"
   ]
  },
  {
   "cell_type": "code",
   "execution_count": 19,
   "id": "07a01900-51a0-46fb-baff-eda32ee73c09",
   "metadata": {},
   "outputs": [
    {
     "name": "stdout",
     "output_type": "stream",
     "text": [
      "[1, 2, 3, 4, 5]\n"
     ]
    }
   ],
   "source": [
    "def duplicate(arr):\n",
    "    n=len(arr)\n",
    "    \n",
    "    j=0\n",
    "    for i in range(n):\n",
    "        if arr[j]!=arr[i]:\n",
    "            j+=1\n",
    "            arr[j]=arr[i]\n",
    "            \n",
    "    return arr[:j+1]\n",
    "    \n",
    "                \n",
    "arr = [1, 1, 2, 2, 2, 3, 3, 4, 4, 4, 5, 5] \n",
    "result=duplicate(arr)\n",
    "print(result)"
   ]
  },
  {
   "cell_type": "code",
   "execution_count": null,
   "id": "2559c2b7-8268-41e0-87c3-617d67afa5ae",
   "metadata": {},
   "outputs": [],
   "source": []
  }
 ],
 "metadata": {
  "kernelspec": {
   "display_name": "Python 3 (ipykernel)",
   "language": "python",
   "name": "python3"
  },
  "language_info": {
   "codemirror_mode": {
    "name": "ipython",
    "version": 3
   },
   "file_extension": ".py",
   "mimetype": "text/x-python",
   "name": "python",
   "nbconvert_exporter": "python",
   "pygments_lexer": "ipython3",
   "version": "3.10.8"
  }
 },
 "nbformat": 4,
 "nbformat_minor": 5
}
