{
 "cells": [
  {
   "cell_type": "code",
   "execution_count": 1,
   "id": "3ab3952c-750c-41c2-8d95-6264fd776547",
   "metadata": {},
   "outputs": [
    {
     "name": "stdout",
     "output_type": "stream",
     "text": [
      "etsman elcnu olleH\n"
     ]
    }
   ],
   "source": [
    "# 1. Reverse a string\n",
    "S1=\"Hello uncle namste\"\n",
    "Reversed_str=S1[::-1]\n",
    "print(Reversed_str)"
   ]
  },
  {
   "cell_type": "code",
   "execution_count": 2,
   "id": "03a847db-707d-4cee-bef7-577f83fd2532",
   "metadata": {},
   "outputs": [
    {
     "name": "stdin",
     "output_type": "stream",
     "text": [
      "Enter the string to check palindrome: carac\n"
     ]
    },
    {
     "name": "stdout",
     "output_type": "stream",
     "text": [
      "string is palindrome\n"
     ]
    }
   ],
   "source": [
    "#2 String to check palindrome\n",
    "S=input(\"Enter the string to check palindrome:\")\n",
    "if(S==S[::-1]):\n",
    "    print(\"string is palindrome\")\n",
    "else:\n",
    "    print(\"string is not palindrome\")"
   ]
  },
  {
   "cell_type": "code",
   "execution_count": 3,
   "id": "0cc64dbd-6556-4114-9f6a-aad06143c150",
   "metadata": {},
   "outputs": [
    {
     "data": {
      "text/plain": [
       "'HELLO MY BROTHER'"
      ]
     },
     "execution_count": 3,
     "metadata": {},
     "output_type": "execute_result"
    }
   ],
   "source": [
    "#3 convert string in upper case\n",
    "S2= \"hello my brother\"\n",
    "S2.upper()"
   ]
  },
  {
   "cell_type": "code",
   "execution_count": 4,
   "id": "21e5f93e-b343-4784-89f8-baca3c1365a5",
   "metadata": {},
   "outputs": [
    {
     "data": {
      "text/plain": [
       "'hello ji'"
      ]
     },
     "execution_count": 4,
     "metadata": {},
     "output_type": "execute_result"
    }
   ],
   "source": [
    "#4 convert string into lower case\n",
    "S3=\"HEllo Ji\"\n",
    "S3.lower()"
   ]
  },
  {
   "cell_type": "code",
   "execution_count": 5,
   "id": "e395fbfa-9811-4ac7-a40c-159625710aef",
   "metadata": {},
   "outputs": [
    {
     "name": "stdout",
     "output_type": "stream",
     "text": [
      "No. of vowel in string: 4\n"
     ]
    }
   ],
   "source": [
    "#5\n",
    "S5=\"hello jii\"\n",
    "count=0\n",
    "list1=[\"a\",\"e\",\"i\",\"o\",\"u\"]\n",
    "for char in S5:\n",
    "    if(char in list1):\n",
    "        count=count+1\n",
    "print(\"No. of vowel in string:\",count)"
   ]
  },
  {
   "cell_type": "code",
   "execution_count": 6,
   "id": "f9ffe4be-e823-47d4-8577-c58748b9e6d9",
   "metadata": {},
   "outputs": [
    {
     "name": "stdin",
     "output_type": "stream",
     "text": [
      "enter the string: hello\n"
     ]
    },
    {
     "name": "stdout",
     "output_type": "stream",
     "text": [
      "No. of constent in string: 3\n"
     ]
    }
   ],
   "source": [
    "#6\n",
    "S6=input(\"enter the string:\")\n",
    "const=0\n",
    "list1=[\"a\",\"e\",\"i\",\"o\",\"u\"]\n",
    "for char in S6:\n",
    "    if(char not in list1):\n",
    "        const=const+1\n",
    "print(\"No. of constent in string:\",const)"
   ]
  },
  {
   "cell_type": "code",
   "execution_count": 7,
   "id": "4192dd67-d13a-422d-913c-d51f36b6a85e",
   "metadata": {},
   "outputs": [
    {
     "data": {
      "text/plain": [
       "'IlovemyIndia'"
      ]
     },
     "execution_count": 7,
     "metadata": {},
     "output_type": "execute_result"
    }
   ],
   "source": [
    "#7\n",
    "S6=\"I love my India\"\n",
    "S6.replace(\" \",\"\")"
   ]
  },
  {
   "cell_type": "code",
   "execution_count": 8,
   "id": "97436e73-4f47-407c-ab12-a45302af2c9a",
   "metadata": {},
   "outputs": [
    {
     "name": "stdout",
     "output_type": "stream",
     "text": [
      "The lenth of string: 12\n"
     ]
    }
   ],
   "source": [
    "#8\n",
    "S8=\"tarun pathak\"\n",
    "count=0\n",
    "for char in S8:\n",
    "    count=count+1\n",
    "print(\"The lenth of string:\",count)"
   ]
  },
  {
   "cell_type": "code",
   "execution_count": 2,
   "id": "c6ed7839-95eb-404b-8616-f2774d1efeab",
   "metadata": {},
   "outputs": [
    {
     "name": "stdin",
     "output_type": "stream",
     "text": [
      "check the word in string: raj\n"
     ]
    },
    {
     "name": "stdout",
     "output_type": "stream",
     "text": [
      "yes\n"
     ]
    }
   ],
   "source": [
    "#9\n",
    "S=\"hello my name is raj manhotra\"\n",
    "S9=input(\"check the word in string:\")\n",
    "if S9 in S:\n",
    "    print(\"yes\")\n",
    "else:\n",
    "    print(\"no\")"
   ]
  },
  {
   "cell_type": "code",
   "execution_count": 3,
   "id": "b08f826f-c762-4d92-8bc8-89dc468f420c",
   "metadata": {},
   "outputs": [
    {
     "name": "stdin",
     "output_type": "stream",
     "text": [
      "enter a word which you want to place: Tarun\n"
     ]
    },
    {
     "data": {
      "text/plain": [
       "'hello my name is Tarun'"
      ]
     },
     "execution_count": 3,
     "metadata": {},
     "output_type": "execute_result"
    }
   ],
   "source": [
    "#10\n",
    "S10=\"hello my name is raj\"\n",
    "S=input(\"enter a word which you want to place:\")\n",
    "S10.replace(\"raj\",S)"
   ]
  },
  {
   "cell_type": "code",
   "execution_count": 4,
   "id": "d7b9c962-8ee8-46bb-9f25-faa8e2edab85",
   "metadata": {},
   "outputs": [
    {
     "name": "stdout",
     "output_type": "stream",
     "text": [
      "The No of occurances is: 14\n"
     ]
    }
   ],
   "source": [
    "#11\n",
    "S11=\"tarun pathak sir\"\n",
    "count=0\n",
    "for char in S11:\n",
    "    if char != \" \":\n",
    "        count=count+1\n",
    "print(\"The No of occurances is:\",count)"
   ]
  },
  {
   "cell_type": "code",
   "execution_count": 5,
   "id": "77b84321-eb70-42d1-9190-57a21cae46cb",
   "metadata": {},
   "outputs": [
    {
     "name": "stdout",
     "output_type": "stream",
     "text": [
      "The first occurrence of the word: 17\n"
     ]
    }
   ],
   "source": [
    "#12\n",
    "S12=\"hello my name is tarun\"\n",
    "word=\"tarun\"\n",
    "result=S12.find(\"tarun\")\n",
    "if result==S12.index(word):\n",
    "    print(\"The first occurrence of the word:\",result)\n",
    "else:\n",
    "    print(\"word does not found\")\n",
    "\n"
   ]
  },
  {
   "cell_type": "code",
   "execution_count": 6,
   "id": "3957e7c0-88e9-4136-9b4b-86dd7a9bf4a9",
   "metadata": {},
   "outputs": [
    {
     "name": "stdout",
     "output_type": "stream",
     "text": [
      "The last occurence of the word: 36\n"
     ]
    }
   ],
   "source": [
    "#13\n",
    "S13=\"hello my name is tarun, what's your name\"\n",
    "word=\"name\"\n",
    "result=S13.rfind(\"name\")\n",
    "if result==S13.rfind(\"name\"):\n",
    "    print(\"The last occurence of the word:\",result)\n",
    "else:\n",
    "    print(\"Word does not found\")\n",
    "\n"
   ]
  },
  {
   "cell_type": "code",
   "execution_count": 7,
   "id": "d44b2d93-1664-468f-bd5f-105583a66c8e",
   "metadata": {},
   "outputs": [
    {
     "name": "stdout",
     "output_type": "stream",
     "text": [
      "The list of the word is: ['hello', 'my', 'name', 'is', 'tarun,', \"what's\", 'your', 'name']\n"
     ]
    }
   ],
   "source": [
    "#14\n",
    "S14=\"hello my name is tarun, what's your name\"\n",
    "result=S14.split()\n",
    "print(\"The list of the word is:\",result)"
   ]
  },
  {
   "cell_type": "code",
   "execution_count": 8,
   "id": "d5feb561-8464-434f-8382-602cddf81383",
   "metadata": {},
   "outputs": [
    {
     "name": "stdout",
     "output_type": "stream",
     "text": [
      "you are inocent\n"
     ]
    }
   ],
   "source": [
    "#15\n",
    "L=[\"you\",\"are\",\"inocent\"]\n",
    "S15=\" \".join(L)\n",
    "print(S15)"
   ]
  },
  {
   "cell_type": "code",
   "execution_count": 9,
   "id": "7e32c5ff-7fb9-4c68-bb57-f2ebac19645c",
   "metadata": {},
   "outputs": [
    {
     "name": "stdout",
     "output_type": "stream",
     "text": [
      "Good_evning_sir!\n"
     ]
    }
   ],
   "source": [
    "#S16\n",
    "S16=\"Good evning sir!\"\n",
    "under_scored=S16.replace(\" \",\"_\")\n",
    "print(under_scored)"
   ]
  },
  {
   "cell_type": "code",
   "execution_count": 10,
   "id": "3dae3744-7b98-4d5c-9317-fef745fe7c53",
   "metadata": {},
   "outputs": [
    {
     "name": "stdout",
     "output_type": "stream",
     "text": [
      "The text starts with the prefix.\n"
     ]
    }
   ],
   "source": [
    "#17\n",
    "S17=\"!!!..Hello  sir ji!\"\n",
    "prefix = \"!!!\"\n",
    "result = S17.startswith(prefix)\n",
    "if result:\n",
    "    print(\"The text starts with the prefix.\")\n",
    "else:\n",
    "    print(\"The text does not start with the prefix.\")"
   ]
  },
  {
   "cell_type": "code",
   "execution_count": 11,
   "id": "fb451e13-8e57-4b00-a458-41a3f1514ab2",
   "metadata": {},
   "outputs": [
    {
     "name": "stdout",
     "output_type": "stream",
     "text": [
      "The text does not start with the postfix.\n"
     ]
    }
   ],
   "source": [
    "#18\n",
    "S18=\"Hello sir ji\"\n",
    "postfix=\"jii\"\n",
    "result=S18.endswith(postfix)\n",
    "if result:\n",
    "     print(\"The text starts with the postfix.\")\n",
    "else:\n",
    "    print(\"The text does not start with the postfix.\")\n"
   ]
  },
  {
   "cell_type": "code",
   "execution_count": 12,
   "id": "128eb880-fd30-4a40-8274-7e59447585be",
   "metadata": {},
   "outputs": [
    {
     "name": "stdout",
     "output_type": "stream",
     "text": [
      "The Titeled str is: Hello World\n"
     ]
    }
   ],
   "source": [
    "#19\n",
    "S19=\"hello world\"\n",
    "result=S19.title()\n",
    "print(\"The Titeled str is:\",result)"
   ]
  },
  {
   "cell_type": "code",
   "execution_count": 13,
   "id": "fcd31ae0-c818-4b47-b5de-8d317075264f",
   "metadata": {},
   "outputs": [
    {
     "name": "stdout",
     "output_type": "stream",
     "text": [
      "The longest word in string is: climbing,\n"
     ]
    }
   ],
   "source": [
    "#20\n",
    "S20=\"i love mountain climbing, becasuse it gives me thrills\"\n",
    "words=S20.split()\n",
    "maxl=0\n",
    "w=''\n",
    "for word in words:\n",
    "    if len(word)>maxl:\n",
    "        w=word\n",
    "        maxl=len(word)\n",
    "print(\"The longest word in string is:\",w)\n"
   ]
  },
  {
   "cell_type": "code",
   "execution_count": 14,
   "id": "4a54f2ad-a959-4795-8535-927c16d27be5",
   "metadata": {},
   "outputs": [
    {
     "name": "stdout",
     "output_type": "stream",
     "text": [
      "The shorted word in string is: i\n"
     ]
    }
   ],
   "source": [
    "#21\n",
    "S21=\"i love mountain climbing, becasuse it gives me thrills\"\n",
    "words=S21.split()\n",
    "w=\"\"\n",
    "minl=float(\"inf\")\n",
    "for word in words:\n",
    "    if len(word)<minl:     \n",
    "        w=word\n",
    "        minl=len(word)\n",
    "print(\"The shorted word in string is:\",w)\n"
   ]
  },
  {
   "cell_type": "code",
   "execution_count": 15,
   "id": "96892f06-6830-4b89-816b-a738c119b986",
   "metadata": {},
   "outputs": [
    {
     "name": "stdout",
     "output_type": "stream",
     "text": [
      " The reversed order string is:\n",
      " thrills me gives it becasuse climbing, mountain love i\n"
     ]
    }
   ],
   "source": [
    "#22\n",
    "S22=\"i love mountain climbing, becasuse it gives me thrills\"\n",
    "words=S22.split()\n",
    "words.reverse()\n",
    "string=\" \".join(words)\n",
    "print(\" The reversed order string is:\\n\",string)"
   ]
  },
  {
   "cell_type": "code",
   "execution_count": 16,
   "id": "eb65f902-366e-4d4b-9c36-3cd4ea83aba6",
   "metadata": {},
   "outputs": [
    {
     "name": "stdout",
     "output_type": "stream",
     "text": [
      "The string is alphanumeric.\n"
     ]
    }
   ],
   "source": [
    "#23\n",
    "S23=\"123hello\"\n",
    "result=S23.isalnum()\n",
    "if result:\n",
    "    print(\"The string is alphanumeric.\")\n",
    "else:\n",
    "    print(\"The string is not alphanumeric.\")\n"
   ]
  },
  {
   "cell_type": "code",
   "execution_count": 17,
   "id": "6af78a3b-6d09-4025-b94c-ff58785668fb",
   "metadata": {},
   "outputs": [
    {
     "name": "stdout",
     "output_type": "stream",
     "text": [
      "only digits in string: 1235\n"
     ]
    }
   ],
   "source": [
    "#24\n",
    "S24=\"123Hello5\"\n",
    "digit=\"\"\n",
    "for char in S24:\n",
    "    if char.isdigit():\n",
    "        digit+=char\n",
    "print(\"only digits in string:\",digit)"
   ]
  },
  {
   "cell_type": "code",
   "execution_count": 18,
   "id": "35376d82-2b83-43a7-9161-3048b7b02635",
   "metadata": {},
   "outputs": [
    {
     "name": "stdout",
     "output_type": "stream",
     "text": [
      "The only alphabares in string: HEllo\n"
     ]
    }
   ],
   "source": [
    "#25\n",
    "S25=\"1234HEllo6\"\n",
    "alpha=\"\"\n",
    "for char in S25:\n",
    "    if char.isalpha():\n",
    "        alpha+=char\n",
    "print(\"The only alphabares in string:\",alpha)\n"
   ]
  },
  {
   "cell_type": "code",
   "execution_count": 19,
   "id": "aac519f9-9c27-4be0-b714-39d3bc30f75c",
   "metadata": {},
   "outputs": [
    {
     "name": "stdout",
     "output_type": "stream",
     "text": [
      "Only upper case aplphabate in string: 4\n"
     ]
    }
   ],
   "source": [
    "#26\n",
    "S26=\"1234HElloJI69\"\n",
    "upper=0\n",
    "for char in S26:\n",
    "    if char.isupper():\n",
    "        upper+=1\n",
    "print(\"Only upper case aplphabate in string:\",upper)"
   ]
  },
  {
   "cell_type": "code",
   "execution_count": 20,
   "id": "0314a4c3-7f81-4fad-86c1-9d6f7116de03",
   "metadata": {},
   "outputs": [
    {
     "name": "stdout",
     "output_type": "stream",
     "text": [
      "Only lower case aplphabate in string: 3\n"
     ]
    }
   ],
   "source": [
    "#27\n",
    "S27=\"1234HElloJI69\"\n",
    "lower=0\n",
    "for char in S27:\n",
    "    if char.islower():\n",
    "        lower+=1\n",
    "print(\"Only lower case aplphabate in string:\",lower)"
   ]
  },
  {
   "cell_type": "code",
   "execution_count": 21,
   "id": "3394035a-3f93-4f40-92b0-4b8093c7f73d",
   "metadata": {},
   "outputs": [
    {
     "name": "stdout",
     "output_type": "stream",
     "text": [
      "hELLO wORLD oF pYTHON\n"
     ]
    }
   ],
   "source": [
    "#28\n",
    "S28=\"Hello World Of Python\"\n",
    "result=S28.swapcase()\n",
    "print(result) "
   ]
  },
  {
   "cell_type": "code",
   "execution_count": 2,
   "id": "5c4448ce-74a6-4e1b-9bb4-a51aa63de44d",
   "metadata": {},
   "outputs": [
    {
     "name": "stdout",
     "output_type": "stream",
     "text": [
      "String without specific word: \n"
     ]
    }
   ],
   "source": [
    "#29\n",
    "S29=\"This is The Example Sentence.\"\n",
    "word=\"The\"\n",
    "words=S29.split()\n",
    "\n",
    "filtered_words = [word for word in words if word != word]\n",
    "new_string=\"\".join(filtered_words)\n",
    "print(\"String without specific word:\",new_string)"
   ]
  },
  {
   "cell_type": "code",
   "execution_count": 1,
   "id": "d891d694-3814-424d-a372-b0c6c946d8e0",
   "metadata": {},
   "outputs": [
    {
     "name": "stdout",
     "output_type": "stream",
     "text": [
      "ramankumar123@gmail.com  <-this email is valid\n",
      "false uyrgfiug754y\n"
     ]
    }
   ],
   "source": [
    "#30\n",
    "import re\n",
    "pattern=r\"^[\\w\\.-]+@[\\w\\.-]+\\.\\w+$\"\n",
    "email=\"ramankumar123@gmail.com\"\n",
    "email2=\"uyrgfiug754y\"\n",
    "if re.match(pattern,email):\n",
    "    print(email,\" <-this email is valid\")\n",
    "else:\n",
    "    print(\"false\",email)\n",
    "if re.match(pattern,email2):\n",
    "    print(email2,\" <-this email is valid\")\n",
    "else:\n",
    "    print(\"false\",email2)\n"
   ]
  },
  {
   "cell_type": "code",
   "execution_count": 3,
   "id": "9adf2de7-3ec0-40fb-932e-951ea312b96d",
   "metadata": {},
   "outputs": [
    {
     "name": "stdout",
     "output_type": "stream",
     "text": [
      "Username: ramanlala123\n"
     ]
    }
   ],
   "source": [
    "email=\"ramanlala123@gmail.com\"\n",
    "username=email.split(\"@\")\n",
    "print(\"Username:\",username[0])"
   ]
  },
  {
   "cell_type": "code",
   "execution_count": 4,
   "id": "28f52761-70a8-4e2a-9bbd-a6df58148d19",
   "metadata": {},
   "outputs": [
    {
     "name": "stdout",
     "output_type": "stream",
     "text": [
      "Domain name: gmail.com\n"
     ]
    }
   ],
   "source": [
    "#32\n",
    "email=\"ramanlala123@gmail.com\"\n",
    "username=email.split(\"@\")\n",
    "print(\"Domain name:\",username[1])\n"
   ]
  },
  {
   "cell_type": "code",
   "execution_count": 5,
   "id": "b20190aa-dfb5-4610-adde-6a71d606509d",
   "metadata": {},
   "outputs": [
    {
     "data": {
      "text/plain": [
       "'This is The Example Sentence.'"
      ]
     },
     "execution_count": 5,
     "metadata": {},
     "output_type": "execute_result"
    }
   ],
   "source": [
    "#33\n",
    "S33=\"     This  is The     Example   Sentence.\"\n",
    "words=S33.split()\n",
    "result=\" \".join(words)\n",
    "result\n"
   ]
  },
  {
   "cell_type": "code",
   "execution_count": 6,
   "id": "dc1cbd1b-482d-415c-b656-b2aedfe5c4c4",
   "metadata": {},
   "outputs": [
    {
     "name": "stdout",
     "output_type": "stream",
     "text": [
      "https://lab.pwskills.com/my-labs is valid\n"
     ]
    }
   ],
   "source": [
    "#34\n",
    "import re\n",
    "pattern=\"(https:\\/\\/www\\.|http:\\/\\/www\\.|https:\\/\\/|http:\\/\\/)?[a-zA-Z0-9]{2,}(\\.[a-zA-Z0-9]{2,})(\\.[a-zA-Z0-9]{2,})?\"\n",
    "url=\"https://lab.pwskills.com/my-labs\"\n",
    "url2=\"gcasdccsbsj\"\n",
    "if re.match(pattern,url):\n",
    "    print(url,\"is valid\")\n",
    "else:\n",
    "    print(url,\"is false\")\n",
    " "
   ]
  },
  {
   "cell_type": "code",
   "execution_count": 7,
   "id": "e9c56dd3-f5d7-4c88-9e58-d1cc95c91de4",
   "metadata": {},
   "outputs": [
    {
     "name": "stdout",
     "output_type": "stream",
     "text": [
      "https\n",
      "http\n"
     ]
    }
   ],
   "source": [
    "#35\n",
    "url1=\"https://www.geeksforgeeks.org/\"\n",
    "url2=\"http://lab.pwskills.com/my-labs\"\n",
    "result=url1.split(\":\")\n",
    "result2=url2.split(\":\")\n",
    "print(result[0])\n",
    "print(result2[0])\n",
    "\n"
   ]
  },
  {
   "cell_type": "code",
   "execution_count": 8,
   "id": "4dec914f-c0ca-4a80-aac5-e7ed404342b7",
   "metadata": {},
   "outputs": [
    {
     "name": "stdin",
     "output_type": "stream",
     "text": [
      "enter the sentence hello jiii\n"
     ]
    },
    {
     "name": "stdout",
     "output_type": "stream",
     "text": [
      "No of occurances of each character:\n",
      " {'h': 1, 'e': 1, 'l': 2, 'o': 1, ' ': 1, 'j': 1, 'i': 3}\n"
     ]
    }
   ],
   "source": [
    "#36\n",
    "S=input(\"enter the sentence\")\n",
    "\n",
    "D1={}\n",
    "for char in S:\n",
    "    if char in D1:\n",
    "        D1[char]+=1             \n",
    "    else:\n",
    "        D1[char]=1\n",
    "    \n",
    "print(\"No of occurances of each character:\\n\",D1)"
   ]
  },
  {
   "cell_type": "code",
   "execution_count": 11,
   "id": "367e8b70-954a-49c0-9566-80f59384c3b3",
   "metadata": {},
   "outputs": [
    {
     "name": "stdout",
     "output_type": "stream",
     "text": [
      "The string without punchuation:\n",
      " Hello world Hows it going\n"
     ]
    }
   ],
   "source": [
    "#37\n",
    "S37=\"Hello, world! How's it going?\"\n",
    "punch=\",'.!?/()\"\"\"\n",
    "newString=\"\"\n",
    "for char in S37:\n",
    "    if char not in punch:\n",
    "        char.replace(char,\"\")\n",
    "        newString=newString+char\n",
    "print(\"The string without punchuation:\\n\",newString)\n",
    "        "
   ]
  },
  {
   "cell_type": "code",
   "execution_count": 12,
   "id": "b8440534-59ff-40ee-9db6-7f57a21423e7",
   "metadata": {},
   "outputs": [
    {
     "name": "stdout",
     "output_type": "stream",
     "text": [
      "12345 :contains only digits: True\n",
      "Hello123 :contains only digits: False\n",
      "456.789 :contains only digits: False\n"
     ]
    }
   ],
   "source": [
    "#38\n",
    "string1 = \"12345\"\n",
    "string2 = \"Hello123\"\n",
    "string3 = \"456.789\"\n",
    "result1=string1.isdigit()\n",
    "result2=string2.isdigit()\n",
    "result3=string3.isdigit()\n",
    "print(string1,\":contains only digits:\", result1)\n",
    "print(string2,\":contains only digits:\", result2)\n",
    "print(string3,\":contains only digits:\", result3)\n"
   ]
  },
  {
   "cell_type": "code",
   "execution_count": 13,
   "id": "c434662a-6942-4291-a6c3-e8ecdf35ca85",
   "metadata": {},
   "outputs": [
    {
     "name": "stdout",
     "output_type": "stream",
     "text": [
      "Helloji :contains only alphabates: True\n",
      "Hello123 :contains only alphabates: False\n",
      "456.789 :contains only alphabates: False\n"
     ]
    }
   ],
   "source": [
    "string1 = \"Helloji\"\n",
    "string2 = \"Hello123\"\n",
    "string3 = \"456.789\"\n",
    "result1=string1.isalpha()\n",
    "result2=string2.isalpha()\n",
    "result3=string3.isalpha()\n",
    "print(string1,\":contains only alphabates:\", result1)\n",
    "print(string2,\":contains only alphabates:\", result2)\n",
    "print(string3,\":contains only alphabates:\", result3)"
   ]
  },
  {
   "cell_type": "code",
   "execution_count": 14,
   "id": "a04a671d-f8d0-450d-95a8-3ce6db88c3f7",
   "metadata": {},
   "outputs": [
    {
     "name": "stdout",
     "output_type": "stream",
     "text": [
      "Orignal string: Hello world\n",
      "Converted list: ['H', 'e', 'l', 'l', 'o', ' ', 'w', 'o', 'r', 'l', 'd']\n"
     ]
    }
   ],
   "source": [
    "#40\n",
    "S40=\"Hello world\"\n",
    "l=list(S40)\n",
    "print(\"Orignal string:\",S40 )\n",
    "print(\"Converted list:\",l)"
   ]
  },
  {
   "cell_type": "code",
   "execution_count": 6,
   "id": "83941e19-eba0-4d28-b026-1ddb744c060b",
   "metadata": {},
   "outputs": [
    {
     "name": "stdout",
     "output_type": "stream",
     "text": [
      "str1 and str 2 are anagram\n",
      "str3 and str4 are not anagram\n"
     ]
    }
   ],
   "source": [
    "#41\n",
    "str1 = \"listen\"\n",
    "str2 = \"silent\"\n",
    "str3 = \"hello\"\n",
    "str4 = \"world\"\n",
    "if sorted(str1)==sorted(str2):\n",
    "    print(\"str1 and str 2 are anagram\")\n",
    "else:\n",
    "    print(\"str1 and str2  are not anagram\")\n",
    "if sorted(str3)==sorted(str4):\n",
    "    print(\"str3 and str4 is anagram\")\n",
    "else:\n",
    "    print(\"str3 and str4 are not anagram\")"
   ]
  },
  {
   "cell_type": "code",
   "execution_count": 2,
   "id": "c6cbc5a5-b850-428d-b671-85750af0788b",
   "metadata": {},
   "outputs": [
    {
     "name": "stdin",
     "output_type": "stream",
     "text": [
      "enter your message tarun\n",
      "enter the key value 3\n"
     ]
    },
    {
     "name": "stdout",
     "output_type": "stream",
     "text": [
      "your incrypted text is: wduxq\n"
     ]
    }
   ],
   "source": [
    "#42\n",
    "str1=\"abcdefghijklmnopqrstuvwxyz\"\n",
    "alphabate=list(str1)\n",
    "def encrypt(text,key):\n",
    "    cipher_text=\"\"\n",
    "    for char in text:\n",
    "        position=alphabate.index(char)\n",
    "        newpos=(position+key)%26\n",
    "        cipher_text+=alphabate[newpos]\n",
    "    print(\"your incrypted text is:\",cipher_text)\n",
    "\n",
    "text=input(\"enter your message\")\n",
    "key=int(input(\"enter the key value\"))\n",
    "encrypt(text,key)\n",
    "    "
   ]
  },
  {
   "cell_type": "code",
   "execution_count": 6,
   "id": "95aa2196-bd7e-4adb-ae6e-f1b10422131f",
   "metadata": {},
   "outputs": [
    {
     "name": "stdin",
     "output_type": "stream",
     "text": [
      "enter your message wduxq\n",
      "enter the key value 3\n"
     ]
    },
    {
     "name": "stdout",
     "output_type": "stream",
     "text": [
      "your decrypted text is: tarun\n"
     ]
    }
   ],
   "source": [
    "#43\n",
    "str1=\"abcdefghijklmnopqrstuvwxyz\"\n",
    "alphabate=list(str1)\n",
    "def decrypt(text,key):\n",
    "    decrypted_text=\"\"\n",
    "    for char in text:\n",
    "        position=alphabate.index(char)\n",
    "        newpos=(position-key)%26\n",
    "        decrypted_text+=alphabate[newpos]\n",
    "    print(\"your decrypted text is:\",decrypted_text)\n",
    "\n",
    "text=input(\"enter your message\")\n",
    "key=int(input(\"enter the key value\"))\n",
    "decrypt(text,key)"
   ]
  },
  {
   "cell_type": "code",
   "execution_count": 2,
   "id": "2e859bd8-896e-498f-b52b-6d316e0c32c9",
   "metadata": {},
   "outputs": [
    {
     "name": "stdout",
     "output_type": "stream",
     "text": [
      "The most common word in the string is: hey\n"
     ]
    }
   ],
   "source": [
    "#44\n",
    "from collections import Counter\n",
    "import re\n",
    "\n",
    "def most_common_word(str1):\n",
    "    words=re.findall(r'\\b\\w+\\b', str1.lower())\n",
    "    word_counts=Counter(words)\n",
    "    most_common=word_counts.most_common(1)\n",
    "\n",
    "    if most_common:\n",
    "        return most_common[0][0]\n",
    "    else:\n",
    "        return None\n",
    "\n",
    "str1=\"Hey there, its your friendly neighborhood Spiderman, Hey\"\n",
    "result=most_common_word(str1)\n",
    "print(\"The most common word in the string is:\",result)"
   ]
  },
  {
   "cell_type": "code",
   "execution_count": 18,
   "id": "9ee177ea-18d6-4a6e-9ecc-982b0a93275c",
   "metadata": {},
   "outputs": [
    {
     "name": "stdout",
     "output_type": "stream",
     "text": [
      "all unique words are:\n",
      " {'the', '?', 'hello', 'world,', 'there!', 'world', \"how's\"}\n"
     ]
    }
   ],
   "source": [
    "#45\n",
    "str2= \"Hello world, hello there! How's the world ? hello hello hello\"\n",
    "words=str2.lower()\n",
    "unique_words=set(words.split())\n",
    "print(\"all unique words are:\\n\",unique_words)"
   ]
  },
  {
   "cell_type": "code",
   "execution_count": 14,
   "id": "b4d420e4-f457-4289-978e-684709739faa",
   "metadata": {},
   "outputs": [
    {
     "name": "stdout",
     "output_type": "stream",
     "text": [
      "'hello' has 2 syllables.\n",
      "'banana' has 3 syllables.\n",
      "'syllable' has 2 syllables.\n"
     ]
    }
   ],
   "source": [
    "#46\n",
    "def count_syllables(word):\n",
    "    vowel=\"aeiou\"\n",
    "    count=0\n",
    "    for char in word:\n",
    "        if char in vowel:\n",
    "            count+=1\n",
    "    return count\n",
    "   \n",
    "    \n",
    "word1 = \"hello\"\n",
    "word2= \"banana\"\n",
    "word3= \"syllable\"\n",
    "\n",
    "syllables1 = count_syllables(word1)\n",
    "syllables2 = count_syllables(word2)\n",
    "syllables3 = count_syllables(word3)\n",
    "\n",
    "print(f\"'{word1}' has {syllables1} syllables.\")\n",
    "print(f\"'{word2}' has {syllables2} syllables.\")\n",
    "print(f\"'{word3}' has {syllables3} syllables.\")\n"
   ]
  },
  {
   "cell_type": "code",
   "execution_count": 1,
   "id": "2de49b1d-2535-4d27-b7eb-88a8a1024f1d",
   "metadata": {},
   "outputs": [
    {
     "name": "stdout",
     "output_type": "stream",
     "text": [
      "'Hello, world' contains special characters: True\n",
      "'This is a test.' contains special characters: True\n",
      "'Special@Characters' contains special characters: True\n"
     ]
    }
   ],
   "source": [
    "#47\n",
    "import re\n",
    "def check_special(string):\n",
    "    special=\"!@#$%^&*()_+<>.,?'\"\"\"\n",
    "    for char in string:\n",
    "        if char in special:\n",
    "            return True\n",
    "\n",
    "string1 = \"Hello, world\"\n",
    "string2 = \"This is a test.\"\n",
    "string3 = \"Special@Characters\"\n",
    "\n",
    "result1 =check_special(string1)\n",
    "result2 =check_special(string2)\n",
    "result3 =check_special(string3)\n",
    "\n",
    "print(f\"'{string1}' contains special characters:\", result1)\n",
    "print(f\"'{string2}' contains special characters:\", result2)\n",
    "print(f\"'{string3}' contains special characters:\", result3)"
   ]
  },
  {
   "cell_type": "code",
   "execution_count": 14,
   "id": "a8227750-f978-4206-a252-c390691b5dd6",
   "metadata": {},
   "outputs": [
    {
     "name": "stdout",
     "output_type": "stream",
     "text": [
      "orignal string: this is an example sentence. \n",
      "modified string: this is example sentence.\n"
     ]
    }
   ],
   "source": [
    "#48\n",
    "def remove_nth(input_str,n):\n",
    "    words=str1.split()\n",
    "    if n>=1 and n<=len(words):\n",
    "            remove_word=words.pop(n-1)\n",
    "            new_string=\" \".join(words)\n",
    "            return new_string\n",
    "str1=\"this is an example sentence.\"\n",
    "n=3\n",
    "new_string=remove_nth(str1,n) \n",
    "print(\"orignal string:\",str1,\"\\nmodified string:\",new_string)\n",
    "    "
   ]
  },
  {
   "cell_type": "code",
   "execution_count": 17,
   "id": "b1f80188-cd8b-49a0-84ea-6f89cad453da",
   "metadata": {},
   "outputs": [
    {
     "name": "stdout",
     "output_type": "stream",
     "text": [
      "orignal string: this is an example sentence. \n",
      "modified string: this is aman an example sentence.\n"
     ]
    }
   ],
   "source": [
    "#49\n",
    "def insert_nth(input_str,n):\n",
    "    words=str1.split()\n",
    "    if n>=1 and n<=len(words):\n",
    "            insert_word=words.insert(n-1,\"aman\")\n",
    "            new_string=\" \".join(words)\n",
    "            return new_string\n",
    "str1=\"this is an example sentence.\"\n",
    "n=3\n",
    "new_string=insert_nth(str1,n) \n",
    "print(\"orignal string:\",str1,\"\\nmodified string:\",new_string)"
   ]
  },
  {
   "cell_type": "code",
   "execution_count": 2,
   "id": "2cd24282-280d-417e-ab47-2a0abffc1ed8",
   "metadata": {},
   "outputs": [
    {
     "name": "stdout",
     "output_type": "stream",
     "text": [
      "[['Name', ' Age', ' City'], ['John', ' 25', ' New York'], ['Alice', ' 30', ' London'], ['Bob', ' 22', ' Paris']]\n"
     ]
    }
   ],
   "source": [
    "#50\n",
    "def csv_string_to_list(csv_string):\n",
    "    rows = csv_string.split('\\n')\n",
    "    result = [row.split(',') for row in rows if row]\n",
    "\n",
    "    return result\n",
    "\n",
    "csv_string=\"Name, Age, City\\nJohn, 25, New York\\nAlice, 30, London\\nBob, 22, Paris\"\n",
    "csv_list=csv_string_to_list(csv_string)\n",
    "print(csv_list)"
   ]
  },
  {
   "cell_type": "code",
   "execution_count": null,
   "id": "df830083-34cb-488e-aaf5-73f509f85f2a",
   "metadata": {},
   "outputs": [],
   "source": []
  }
 ],
 "metadata": {
  "kernelspec": {
   "display_name": "Python 3 (ipykernel)",
   "language": "python",
   "name": "python3"
  },
  "language_info": {
   "codemirror_mode": {
    "name": "ipython",
    "version": 3
   },
   "file_extension": ".py",
   "mimetype": "text/x-python",
   "name": "python",
   "nbconvert_exporter": "python",
   "pygments_lexer": "ipython3",
   "version": "3.10.8"
  }
 },
 "nbformat": 4,
 "nbformat_minor": 5
}
