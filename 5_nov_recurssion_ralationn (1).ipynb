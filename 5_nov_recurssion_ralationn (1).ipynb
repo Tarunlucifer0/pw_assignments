{
 "cells": [
  {
   "cell_type": "code",
   "execution_count": null,
   "id": "c2733967-1bd2-49d8-b543-90dd27400c6c",
   "metadata": {},
   "outputs": [
    {
     "name": "stdout",
     "output_type": "stream",
     "text": [
      "Hello\n"
     ]
    }
   ],
   "source": [
    "print(\"Hello\")"
   ]
  },
  {
   "cell_type": "markdown",
   "id": "fe6e8c52-d32f-4403-82c1-1a89787f5c86",
   "metadata": {},
   "source": [
    "Q1. Find the value of T(2) for the rec%rrence relation T(n) = 3T(n-1) + 12n, given that T(0)=5."
   ]
  },
  {
   "cell_type": "raw",
   "id": "5326c3e9-1183-47af-9985-f76e51a84bdb",
   "metadata": {},
   "source": [
    "Ans.T(n)=3T(n-1)+12n\n",
    "    T(1)=3T(1-1)+12(1)\n",
    "    T(1)=3T(0)+12\n",
    "    T(1)=3*5+12\n",
    "    T(1)=27   ---- @1\n",
    "    T(2)=3T(2-1)+12(2)\n",
    "    \n",
    "    putting T(1) value from @1\n",
    "    T(2)=3*27+24\n",
    "    T(2)=105    --ans.\n",
    "    "
   ]
  },
  {
   "cell_type": "code",
   "execution_count": null,
   "id": "f502b5a2-68c6-440e-ba8d-b22a0551ac4d",
   "metadata": {},
   "outputs": [],
   "source": [
    "Q2. Given a recurrence relation, solve it using the substitution method:\n",
    "a. T(n) = T(n-1) + c\n",
    "b. T(n) = 2T(n/2) + n\n",
    "c. T(n) = 2T(n/2) + c\n",
    "d. T(n) = T(n/2) + c"
   ]
  },
  {
   "cell_type": "code",
   "execution_count": null,
   "id": "6b3fc379-a0bd-45ee-a292-6e87de1d5386",
   "metadata": {},
   "outputs": [],
   "source": [
    "a. T(n)=T(n-1)+c\n",
    "   T(n-1)=T(n-2) +c\n",
    "   T(n)=T(n-2) +c +c\n",
    "   T(n)=T(n-3) +c +c +c\n",
    "   T(n)=T(n-k) +k.c\n",
    "   if n-k=0 then\n",
    "      n=k\n",
    "   T(n)=T(n-n)+ n.c\n",
    "   T(n)= 0+ n.c\n",
    "   T(n)= O(n)    ---ans\n"
   ]
  },
  {
   "cell_type": "code",
   "execution_count": null,
   "id": "72ed1b76-c5ef-4990-98bb-90669ac4baeb",
   "metadata": {},
   "outputs": [],
   "source": [
    "b. T(n)=2T(n/2)+n\n",
    "   T(n/2)=2T(n/4)+n/2    ---@1\n",
    "   T(n)=2[2T(n/4)+n/2]+n\n",
    "   T(n)=4T(n/4) +n +n    ---@2\n",
    "   \n",
    "   T(n/4)=2T(n/8) +n/4\n",
    "   \n",
    "   putting T(n/4) in @2\n",
    "   T(n)=4[2T(n/8)+n/4] +n +n\n",
    "   T(n)=8T(n/8) +n+n+n\n",
    "   T(n)=2^3 T(n/2^3) +3n\n",
    "   T(n)=2^k T(n/2^k) +K.n\n",
    "   \n",
    "   assume n/2^k=1 then\n",
    "          n=2^k\n",
    "          k=logn\n",
    "        \n",
    "   T(n)=n T(1) + k.n\n",
    "   T(n)= n+logn\n",
    "   T(n)= O(n+logn)    ---ans"
   ]
  },
  {
   "cell_type": "code",
   "execution_count": null,
   "id": "e08ddff9-7072-4f88-b506-e82d55b8a249",
   "metadata": {},
   "outputs": [],
   "source": [
    "c. T(n)=2T(n/2)+c\n",
    "   T(n/2)=2T(n/4)+c\n",
    "   T(n)=4 T(n/4) +2c +c\n",
    "   T(n)=8 T(n/8) +3c+ 2c +c\n",
    "   T(n)=2^3 T(n/2^3) +2^k+1 .c\n",
    "   T(n)=2^k T(n/2^k) +2^k (k) .c\n",
    "   \n",
    "   if n/2^k=0 then\n",
    "      n=2^k\n",
    "      k=logn\n",
    "   T(n)= n(0) + n (logn) .c\n",
    "   T(n)= O(nlogn)   ---Ans"
   ]
  },
  {
   "cell_type": "code",
   "execution_count": null,
   "id": "7fad4650-1ec6-4a49-a50e-b8ce366bab9a",
   "metadata": {},
   "outputs": [],
   "source": [
    "d. T(n)=T(n/2)+c\n",
    "   T(n)=T(n/4) +c +c\n",
    "   T(n)=T(n/8) +c +c +c\n",
    "   T(n)=T(n/2^k) +k.c\n",
    "   \n",
    "   if n/2^k=1 then\n",
    "      n=2^k\n",
    "      k=logn\n",
    "      \n",
    "   T(n)=T(1)+ logn.c\n",
    "   T(n)= O(logn)"
   ]
  },
  {
   "cell_type": "code",
   "execution_count": null,
   "id": "38fbbff6-726a-4838-8ccf-881c42222c49",
   "metadata": {},
   "outputs": [],
   "source": [
    "3. Given a recurrence relation, solve it using the recursive tree approach:\n",
    "a. T(n) = 2T(n-1) +1\n",
    "b. T(n) = 2T(n/2) + n"
   ]
  },
  {
   "cell_type": "code",
   "execution_count": null,
   "id": "1fae64ad-e39d-4f52-b23f-8ec0f1f3ff8f",
   "metadata": {},
   "outputs": [],
   "source": [
    "a. at level 1= T(1)=2T(n-1)+1\n",
    "   at level 2= T(2)=4T(n-2)+2\n",
    "   at level k= T(3)=2^kT(n-k)+k\n",
    "   if n-k=1 then\n",
    "      n=k\n",
    "   T(n)=2^n(1) +n\n",
    "   T(n)= O(2^n)\n",
    "   "
   ]
  },
  {
   "cell_type": "code",
   "execution_count": null,
   "id": "06455201-144a-4aeb-b678-5e0e1d44d59c",
   "metadata": {},
   "outputs": [],
   "source": [
    "b. T(n) = 2T(n/2) + n\n",
    "   T(n)= O(nlogn)"
   ]
  }
 ],
 "metadata": {
  "kernelspec": {
   "display_name": "Python 3 (ipykernel)",
   "language": "python",
   "name": "python3"
  },
  "language_info": {
   "codemirror_mode": {
    "name": "ipython",
    "version": 3
   },
   "file_extension": ".py",
   "mimetype": "text/x-python",
   "name": "python",
   "nbconvert_exporter": "python",
   "pygments_lexer": "ipython3",
   "version": "3.10.8"
  }
 },
 "nbformat": 4,
 "nbformat_minor": 5
}
