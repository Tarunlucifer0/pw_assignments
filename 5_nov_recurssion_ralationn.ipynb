{
 "cells": [
  {
   "cell_type": "raw",
   "id": "b1efbb29-3856-4d69-90d8-eef5c6e9dddd",
   "metadata": {},
   "source": [
    "Q1. Find the value of T(2) for the rec%rrence relation T(n) = 3T(n-1) + 12n, given that T(0)=5."
   ]
  },
  {
   "cell_type": "raw",
   "id": "bc88e495-aa23-44b0-a7e4-0ad778ab3e22",
   "metadata": {},
   "source": [
    "Ans.T(n)=3T(n-1)+12n\n",
    "    T(1)=3T(1-1)+12(1)\n",
    "    T(1)=3T(0)+12\n",
    "    T(1)=3*5+12\n",
    "    T(1)=27   ---- @1\n",
    "    T(2)=3T(2-1)+12(2)\n",
    "    \n",
    "    putting T(1) value from @1\n",
    "    T(2)=3*27+24\n",
    "    T(2)=105    --ans.\n",
    "    "
   ]
  },
  {
   "cell_type": "raw",
   "id": "385ea341-1c7c-4082-93f5-7e335082edc2",
   "metadata": {},
   "source": [
    "Q2. Given a recurrence relation, solve it using the substitution method:\n",
    "a. T(n) = T(n-1) + c\n",
    "b. T(n) = 2T(n/2) + n\n",
    "c. T(n) = 2T(n/2) + c\n",
    "d. T(n) = T(n/2) + c"
   ]
  },
  {
   "cell_type": "raw",
   "id": "48931249-ebcd-4d89-961f-b118c8ef4245",
   "metadata": {},
   "source": [
    "a. T(n)=T(n-1)+c\n",
    "   T(n-1)=T(n-2) +c\n",
    "   T(n)=T(n-2) +c +c\n",
    "   T(n)=T(n-3) +c +c +c\n",
    "   T(n)=T(n-k) +k.c\n",
    "   if n-k=0 then\n",
    "      n=k\n",
    "   T(n)=T(n-n)+ n.c\n",
    "   T(n)= 0+ n.c\n",
    "   T(n)= O(n)    ---ans\n"
   ]
  },
  {
   "cell_type": "raw",
   "id": "31319985-1f0a-4cc6-8289-fb067c703439",
   "metadata": {},
   "source": [
    "b. T(n)=2T(n/2)+n\n",
    "   T(n/2)=2T(n/4)+n/2    ---@1\n",
    "   T(n)=2[2T(n/4)+n/2]+n\n",
    "   T(n)=4T(n/4) +n +n    ---@2\n",
    "   \n",
    "   T(n/4)=2T(n/8) +n/4\n",
    "   \n",
    "   putting T(n/4) in @2\n",
    "   T(n)=4[2T(n/8)+n/4] +n +n\n",
    "   T(n)=8T(n/8) +n+n+n\n",
    "   T(n)=2^3 T(n/2^3) +3n\n",
    "   T(n)=2^k T(n/2^k) +K.n\n",
    "   \n",
    "   assume n/2^k=1 then\n",
    "          n=2^k\n",
    "          k=logn\n",
    "        \n",
    "   T(n)=n T(1) + k.n\n",
    "   T(n)= n+logn\n",
    "   T(n)= O(n+logn)    ---ans"
   ]
  },
  {
   "cell_type": "raw",
   "id": "6155a590-e36e-411c-b3b5-a5e8bbaf5c32",
   "metadata": {},
   "source": [
    "c. T(n)=2T(n/2)+c\n",
    "   T(n/2)=2T(n/4)+c\n",
    "   T(n)=4 T(n/4) +2c +c\n",
    "   T(n)=8 T(n/8) +3c+ 2c +c\n",
    "   T(n)=2^3 T(n/2^3) +2^k+1 .c\n",
    "   T(n)=2^k T(n/2^k) +2^k (k) .c\n",
    "   \n",
    "   if n/2^k=0 then\n",
    "      n=2^k\n",
    "      k=logn\n",
    "   T(n)= n(0) + n (logn) .c\n",
    "   T(n)= O(nlogn)   ---Ans"
   ]
  },
  {
   "cell_type": "raw",
   "id": "6a6a47e8-1d2b-4414-ad97-ca129c6fa78a",
   "metadata": {},
   "source": [
    "d. T(n)=T(n/2)+c\n",
    "   T(n)=T(n/4) +c +c\n",
    "   T(n)=T(n/8) +c +c +c\n",
    "   T(n)=T(n/2^k) +k.c\n",
    "   \n",
    "   if n/2^k=1 then\n",
    "      n=2^k\n",
    "      k=logn\n",
    "      \n",
    "   T(n)=T(1)+ logn.c\n",
    "   T(n)= O(logn)"
   ]
  },
  {
   "cell_type": "raw",
   "id": "4bc3c758-84d4-44b9-8e4c-d5879098308b",
   "metadata": {},
   "source": [
    "3. Given a recurrence relation, solve it using the recursive tree approach:\n",
    "a. T(n) = 2T(n-1) +1\n",
    "b. T(n) = 2T(n/2) + n"
   ]
  },
  {
   "cell_type": "raw",
   "id": "8c0de47d-bfb6-4834-9a93-01963b9947f7",
   "metadata": {},
   "source": [
    "a. at level 1= T(1)=2T(n-1)+1\n",
    "   at level 2= T(2)=4T(n-2)+2\n",
    "   at level k= T(3)=2^kT(n-k)+k\n",
    "   if n-k=1 then\n",
    "      n=k\n",
    "   T(n)=2^n(1) +n\n",
    "   T(n)= O(2^n)\n",
    "   "
   ]
  },
  {
   "cell_type": "raw",
   "id": "769cd153-0bd2-409d-bc64-ecbf24640aaa",
   "metadata": {},
   "source": [
    "b. T(n) = 2T(n/2) + n\n",
    "   T(n)= O(nlogn)"
   ]
  }
 ],
 "metadata": {
  "kernelspec": {
   "display_name": "Python 3 (ipykernel)",
   "language": "python",
   "name": "python3"
  },
  "language_info": {
   "codemirror_mode": {
    "name": "ipython",
    "version": 3
   },
   "file_extension": ".py",
   "mimetype": "text/x-python",
   "name": "python",
   "nbconvert_exporter": "python",
   "pygments_lexer": "ipython3",
   "version": "3.10.8"
  }
 },
 "nbformat": 4,
 "nbformat_minor": 5
}
