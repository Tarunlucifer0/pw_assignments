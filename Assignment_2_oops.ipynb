{
 "cells": [
  {
   "cell_type": "raw",
   "id": "58694281-9f70-4665-bef9-d20bdc945f0f",
   "metadata": {},
   "source": [
    "Q1- What is a constructor in Python? Explain its purpose and usage\n",
    "Ans- a constructor is a special method within a class that gets called automatically when an object of that class is created. It is used to initialize the attributes (or properties) of the object.\n",
    "\n",
    "Purpose of a Constructor:\n",
    "(a) Initialization: Constructors allow you to set initial values for the attributes of an object. When you create an instance of a class, the constructor runs and sets up the object’s state.\n",
    "(b) Memory Allocation: Constructors allocate memory for the object and perform any necessary setup.\n",
    "(c) Customization: You can customize the behavior of the constructor to suit your needs.\n",
    "\n",
    "Syntax:\n",
    "(a) The constructor method is named __init__.\n",
    "(b) It takes at least one parameter usually self, which refers to the object being created.\n",
    "(c) You can add additional parameters to customize the initialization."
   ]
  },
  {
   "cell_type": "raw",
   "id": "a23b6c1d-2926-48d2-b5d7-93a55edb69ff",
   "metadata": {},
   "source": [
    "Q2-Differentiate between a parameterless constructor and a parameterized constructor in Python.\n",
    "Ans- Parameterless Constructor (Default Constructor):\n",
    "Definition: A parameterless constructor is a constructor that doesn’t take any parameters. It is automatically provided by Python if you don’t define any constructor explicitly.\n",
    "\n",
    "Parameterized Constructor:\n",
    "Definition: A parameterized constructor accepts one or more parameters. You define it explicitly to customize the initialization of object attributes.\n",
    "\n",
    "Key Differences:\n",
    "1.Parameters:\n",
    "Parameterless constructor: Takes no parameters.\n",
    "Parameterized constructor: Accepts one or more parameters.\n",
    "2.Initialization:\n",
    "Parameterless constructor initializes attributes with default values.\n",
    "Parameterized constructor Enables customization based on user-provided data.\n",
    "3.Usage:\n",
    "Use parameterless constructor when default values suffice.\n",
    "Use parameterized constructor when you need specific values during object creation.\n",
    "Use parameterless constructor Allocates memory for the object."
   ]
  },
  {
   "cell_type": "raw",
   "id": "70f450d5-5b4a-4bd5-986b-01b0e2704bee",
   "metadata": {},
   "source": [
    "Q3-How do you define a constructor in a Python class? Provide an example"
   ]
  },
  {
   "cell_type": "code",
   "execution_count": 1,
   "id": "b6b0a0db-b6c5-4e56-95bd-3e14ae7aba21",
   "metadata": {},
   "outputs": [],
   "source": [
    "class abc:\n",
    "    def __init__(self, var):\n",
    "        self.var=\"Ram\""
   ]
  },
  {
   "cell_type": "raw",
   "id": "822467a2-b65c-4b30-8974-f5be0ed5dde1",
   "metadata": {},
   "source": [
    "Q4-Explain the `__init__` method in Python and its role in constructors"
   ]
  },
  {
   "cell_type": "code",
   "execution_count": 27,
   "id": "4ac2952d-73f7-4304-aca1-edec96c82ae1",
   "metadata": {},
   "outputs": [],
   "source": [
    "# Example of init method\n",
    "class student:\n",
    "    def __init__(self,rollno, Class, age):\n",
    "        self.rollno=rollno\n",
    "        self.Class=Class\n",
    "        self.age=age\n",
    "        \n",
    "    def stu_details(self):\n",
    "        print(\"The student details are:\")\n",
    "        print(\"Roll No=\",self.rollno,\"Class=\",self.Class,\"Age=\",self.age)"
   ]
  },
  {
   "cell_type": "code",
   "execution_count": 28,
   "id": "03545359-6d14-460a-83c3-e03ccc39237b",
   "metadata": {},
   "outputs": [],
   "source": [
    "Tarun=student(\"1\", \"BCA\",21)"
   ]
  },
  {
   "cell_type": "code",
   "execution_count": 29,
   "id": "54508f55-f346-4e13-85de-d96bf9caee8b",
   "metadata": {},
   "outputs": [],
   "source": [
    "Anubhav=student(\"2\",\"BCA\",22)"
   ]
  },
  {
   "cell_type": "code",
   "execution_count": 30,
   "id": "a0898664-55df-4ce4-8ba0-39ae37f3460e",
   "metadata": {},
   "outputs": [
    {
     "name": "stdout",
     "output_type": "stream",
     "text": [
      "The student details are:\n",
      "Roll No= 1 Class= BCA Age= 21\n"
     ]
    }
   ],
   "source": [
    "Tarun.stu_details()"
   ]
  },
  {
   "cell_type": "code",
   "execution_count": 31,
   "id": "6078f96c-668e-4158-8b44-b608f4ff05f8",
   "metadata": {},
   "outputs": [
    {
     "name": "stdout",
     "output_type": "stream",
     "text": [
      "The student details are:\n",
      "Roll No= 2 Class= BCA Age= 22\n"
     ]
    }
   ],
   "source": [
    "Anubhav.stu_details()"
   ]
  },
  {
   "cell_type": "raw",
   "id": "c5ec5fab-6615-4e9b-b52d-69ee6e20a078",
   "metadata": {},
   "source": [
    "--Role of __init__ in Constructors:\n",
    "Initialization: The primary role of __init__ is to set up the initial state of an object.\n",
    "Attribute Assignment: Inside __init__, you can assign values to instance variables (attributes) specific to that object.\n",
    "Customization: You can customize the initialization process based on input parameters."
   ]
  },
  {
   "cell_type": "raw",
   "id": "89b94208-60b7-4585-b43c-8a8336dd4c0c",
   "metadata": {},
   "source": [
    "Q5-In a class named `Person`, create a constructor that initializes the `name` and `age` attributes. Provide an \n",
    "example of creating an object of this class."
   ]
  },
  {
   "cell_type": "code",
   "execution_count": 36,
   "id": "ad6d7203-c1b5-444f-af05-2cb6050194ca",
   "metadata": {},
   "outputs": [],
   "source": [
    "class Person:\n",
    "    def __init__(self,name, age):\n",
    "        self.name=name\n",
    "        self.age=age"
   ]
  },
  {
   "cell_type": "code",
   "execution_count": 37,
   "id": "c5ae3ee3-334b-4551-9e3d-2b3b7e3f4463",
   "metadata": {},
   "outputs": [],
   "source": [
    "# creating Object of person class\n",
    "person1=Person(\"Tarun\",21)"
   ]
  },
  {
   "cell_type": "code",
   "execution_count": 38,
   "id": "1166e06c-a83e-4262-bebf-95846a61472e",
   "metadata": {},
   "outputs": [
    {
     "data": {
      "text/plain": [
       "'Tarun'"
      ]
     },
     "execution_count": 38,
     "metadata": {},
     "output_type": "execute_result"
    }
   ],
   "source": [
    "# Accessing attribute\n",
    "person1.name"
   ]
  },
  {
   "cell_type": "code",
   "execution_count": 41,
   "id": "61247b0c-abbd-46ab-9780-ef855be5610e",
   "metadata": {},
   "outputs": [
    {
     "data": {
      "text/plain": [
       "21"
      ]
     },
     "execution_count": 41,
     "metadata": {},
     "output_type": "execute_result"
    }
   ],
   "source": [
    "person1.age"
   ]
  },
  {
   "cell_type": "raw",
   "id": "0c4a4904-c608-493e-8677-e49cd4307278",
   "metadata": {},
   "source": [
    "Q6-How can you call a constructor explicitly in Python? Give an example"
   ]
  },
  {
   "cell_type": "raw",
   "id": "c5b062c0-eb84-4d20-a3fa-d791fd9c4469",
   "metadata": {},
   "source": [
    "Ans- When an object of a class is created, the constructor (usually named __init__) is automatically called. This is an implicit constructor call.\n",
    "However, there are scenarios where you might want to explicitly invoke the constructor by directly specifying it.\n",
    "\n",
    "Invoke the Constructor Explicitly:\n",
    "An explicit constructor call occurs when you manually invoke the constructor using parentheses (()).\n",
    "\n",
    "Example-"
   ]
  },
  {
   "cell_type": "code",
   "execution_count": 1,
   "id": "1e09009e-8e96-461e-8942-07a26ea4b36c",
   "metadata": {},
   "outputs": [],
   "source": [
    "class Person:\n",
    "    def __init__(self, name, age):\n",
    "        self.name = name\n",
    "        self.age = age\n"
   ]
  },
  {
   "cell_type": "code",
   "execution_count": 2,
   "id": "25412b04-7137-46c6-aa03-50f6383530fc",
   "metadata": {},
   "outputs": [],
   "source": [
    "person1 = Person(name=\"Alice\", age=30)"
   ]
  },
  {
   "cell_type": "code",
   "execution_count": 4,
   "id": "b542b852-5d78-4114-9fb1-60a753bde693",
   "metadata": {},
   "outputs": [
    {
     "data": {
      "text/plain": [
       "'Alice'"
      ]
     },
     "execution_count": 4,
     "metadata": {},
     "output_type": "execute_result"
    }
   ],
   "source": [
    "person1.name"
   ]
  },
  {
   "cell_type": "raw",
   "id": "18e4e9ed-000f-438e-85b0-0a1004bc1104",
   "metadata": {},
   "source": [
    "Q7- What is the significance of the `self` parameter in Python constructors? Explain with an example"
   ]
  },
  {
   "cell_type": "raw",
   "id": "3ace952d-8bd8-4323-881f-a0619c953b83",
   "metadata": {},
   "source": [
    "Ans- Significance of 'self' parameter in constructor:\n",
    "\n",
    "1.When you create an instance (object) of a class in Python, the constructor method is called automatically. The constructor is a special method named __init__.\n",
    "\n",
    "2.The purpose of the constructor is to initialize the attributes (properties) of the object.\n",
    "\n",
    "3.The self parameter refers to the instance being created. It allows you to access and set the object’s attributes."
   ]
  },
  {
   "cell_type": "code",
   "execution_count": 12,
   "id": "9d18326b-1828-47eb-9082-2931501d85fa",
   "metadata": {},
   "outputs": [],
   "source": [
    "#Using self in Constructors:\n",
    "class car:\n",
    "    def __init__(self,model,color):\n",
    "        self.model=model\n",
    "        self.color=color\n",
    "        \n",
    "    def show_details(self):\n",
    "        print(\"Car model=\", self.model,\"\\nColor=\",self.color)\n",
    "        \n",
    "        "
   ]
  },
  {
   "cell_type": "code",
   "execution_count": 13,
   "id": "833d6b05-17aa-4086-aecb-e2dc90357132",
   "metadata": {},
   "outputs": [],
   "source": [
    "car1=car(\"TATA Herrier\",\"White\")\n",
    "car2=car(\"Toyota Fourtuner\",\"white\")"
   ]
  },
  {
   "cell_type": "code",
   "execution_count": 14,
   "id": "113106ff-999c-454a-8aa8-d81fac64c3e3",
   "metadata": {},
   "outputs": [
    {
     "name": "stdout",
     "output_type": "stream",
     "text": [
      "Car model= TATA Herrier \n",
      "Color= White\n"
     ]
    }
   ],
   "source": [
    "car1.show_details()"
   ]
  },
  {
   "cell_type": "code",
   "execution_count": 15,
   "id": "7e70498d-c392-49fe-acf0-3d30963b3ca9",
   "metadata": {},
   "outputs": [
    {
     "name": "stdout",
     "output_type": "stream",
     "text": [
      "Car model= Fourtuner \n",
      "Color= white\n"
     ]
    }
   ],
   "source": [
    "car2.show_details()"
   ]
  },
  {
   "cell_type": "raw",
   "id": "450ab913-b3a7-431e-bd60-ea668b5e69da",
   "metadata": {},
   "source": [
    "Q8- Discuss the concept of default constructors in Python. When are they used?"
   ]
  },
  {
   "cell_type": "raw",
   "id": "0a49ceb2-9a33-45a7-8847-9f5b5a6c0f2c",
   "metadata": {},
   "source": [
    "Ans- A default constructor is a constructor that doesn’t take any parameters. It’s called “default” because it provides default values to the object attributes. If a class doesn’t explicitly define a constructor, Python automatically provides a default constructor that doesn’t perform any specific initialization."
   ]
  },
  {
   "cell_type": "code",
   "execution_count": 14,
   "id": "4fa27d0a-b4f6-4a4a-9553-e01999f3f6b3",
   "metadata": {},
   "outputs": [],
   "source": [
    "# examole of default constructor:\n",
    "class Person:\n",
    "    def __init__(self):\n",
    "        self.name = \"Unknown\"\n",
    "        self.age = 0\n",
    "\n",
    "    def introduce(self):\n",
    "        print(f\"Hi, I'm {self.name} and I'm {self.age} years old.\")\n"
   ]
  },
  {
   "cell_type": "code",
   "execution_count": 15,
   "id": "132be889-a141-4123-9d5b-1797682b1ed6",
   "metadata": {},
   "outputs": [],
   "source": [
    "person1=Person()"
   ]
  },
  {
   "cell_type": "code",
   "execution_count": 16,
   "id": "c12ef4ba-a8a1-432d-b13e-c24231b12725",
   "metadata": {},
   "outputs": [
    {
     "name": "stdout",
     "output_type": "stream",
     "text": [
      "Hi, I'm Unknown and I'm 0 years old.\n"
     ]
    }
   ],
   "source": [
    "person1.introduce()"
   ]
  },
  {
   "cell_type": "raw",
   "id": "c3e850cc-0741-4609-b20f-23cb9f809d6c",
   "metadata": {},
   "source": [
    "Q9- Create a Python class called `Rectangle` with a constructor that initializes the `width` and `height` \n",
    "attributes. Provide a method to calculate the area of the rectangle."
   ]
  },
  {
   "cell_type": "code",
   "execution_count": 22,
   "id": "c205b6b9-7959-4d1d-9276-d059188865a0",
   "metadata": {},
   "outputs": [],
   "source": [
    "class rectangle:\n",
    "    def __init__(self,width,height):\n",
    "        self.width=width\n",
    "        self.height=height\n",
    "        \n",
    "    def calculate_area(self):\n",
    "        print(\"The area of rectangle is:\")\n",
    "        return self.width*self.height\n",
    "    "
   ]
  },
  {
   "cell_type": "code",
   "execution_count": 23,
   "id": "758ad4c0-a902-48d6-a7dd-7e6d69b8fbfa",
   "metadata": {},
   "outputs": [],
   "source": [
    "rect1=rectangle(5,6)"
   ]
  },
  {
   "cell_type": "code",
   "execution_count": 24,
   "id": "91ea9925-be5a-44b8-aa90-af36a8f5521a",
   "metadata": {},
   "outputs": [
    {
     "name": "stdout",
     "output_type": "stream",
     "text": [
      "The area of rectangle is:\n"
     ]
    },
    {
     "data": {
      "text/plain": [
       "30"
      ]
     },
     "execution_count": 24,
     "metadata": {},
     "output_type": "execute_result"
    }
   ],
   "source": [
    "rect1.calculate_area()"
   ]
  },
  {
   "cell_type": "raw",
   "id": "1e158055-0191-4fa9-83e7-41fb1065fd57",
   "metadata": {},
   "source": [
    "Q10- How can you have multiple constructors in a Python class? Explain with an example."
   ]
  },
  {
   "cell_type": "raw",
   "id": "9c5d9629-c0be-4dc2-8757-07b573e8246f",
   "metadata": {},
   "source": [
    "Ans- We can use multiple constructor by using decoratars\n",
    "1.Decorate a method with @singledispatchmethod to create multiple constructors.\n",
    "2.Dispatch based on the type of the first argument.\n",
    "3.Implement different behaviors for different argument types."
   ]
  },
  {
   "cell_type": "code",
   "execution_count": 35,
   "id": "dc1c2d35-41c2-452d-a6e8-8840127c5eb4",
   "metadata": {},
   "outputs": [],
   "source": [
    "from functools import singledispatchmethod\n",
    "\n",
    "class Point:\n",
    "    @singledispatchmethod\n",
    "    def __init__(self, x, y):\n",
    "        self.x = x\n",
    "        self.y = y\n",
    "\n",
    "    @__init__.register(dict)\n",
    "    def _from_dict(self, coords):\n",
    "        self.x = coords['x']\n",
    "        self.y = coords['y']\n",
    "        \n",
    "    def coordinates(self):\n",
    "        print(self.x,\",\",self.y)"
   ]
  },
  {
   "cell_type": "code",
   "execution_count": 36,
   "id": "c6d4d4f1-72b6-4c4a-87a2-d08397609971",
   "metadata": {},
   "outputs": [],
   "source": [
    "point1 = Point(3, 4)  # Primary constructor\n",
    "point2 = Point({'x': 1, 'y': 2})"
   ]
  },
  {
   "cell_type": "code",
   "execution_count": 37,
   "id": "5583560d-1e1b-4c64-b103-10a06e0a1e08",
   "metadata": {},
   "outputs": [
    {
     "name": "stdout",
     "output_type": "stream",
     "text": [
      "3 , 4\n"
     ]
    }
   ],
   "source": [
    "point1.coordinates()"
   ]
  },
  {
   "cell_type": "raw",
   "id": "23354fda-7c80-4e2f-a165-dfc7adf87f30",
   "metadata": {},
   "source": [
    "Q11- . What is method overloading, and how is it related to constructors in Python"
   ]
  },
  {
   "cell_type": "raw",
   "id": "9c55bbec-6812-4e04-b28f-d5921ca6542c",
   "metadata": {},
   "source": [
    "Ans- In Python, method overloading refers to the ability to define multiple methods within a class with the same name but different parameters.\n",
    "Python achieves method overloading through default parameter values and variable-length argument lists. "
   ]
  },
  {
   "cell_type": "code",
   "execution_count": 1,
   "id": "6eb71672-b334-4269-9664-5aed95013e8e",
   "metadata": {},
   "outputs": [],
   "source": [
    "class MathOperations:\n",
    "    def add(self, a, b=None, *args):\n",
    "        if b is None:\n",
    "            # Handle case when only one argument is provided\n",
    "            return a\n",
    "        else:\n",
    "            # Handle case when two or more arguments are provided\n",
    "            result = a + b\n",
    "            for arg in args:\n",
    "                result += arg\n",
    "            return result"
   ]
  },
  {
   "cell_type": "code",
   "execution_count": 2,
   "id": "4fa78bbd-95f4-437d-b2b5-03a0bf9257ab",
   "metadata": {},
   "outputs": [],
   "source": [
    "math_obj = MathOperations()"
   ]
  },
  {
   "cell_type": "code",
   "execution_count": 4,
   "id": "1f668365-b1a6-44e5-86ce-e8d047b55fef",
   "metadata": {},
   "outputs": [
    {
     "data": {
      "text/plain": [
       "5"
      ]
     },
     "execution_count": 4,
     "metadata": {},
     "output_type": "execute_result"
    }
   ],
   "source": [
    "math_obj.add(5)"
   ]
  },
  {
   "cell_type": "code",
   "execution_count": 5,
   "id": "5552b1b2-300a-44be-81d7-95410f7956df",
   "metadata": {},
   "outputs": [
    {
     "data": {
      "text/plain": [
       "13"
      ]
     },
     "execution_count": 5,
     "metadata": {},
     "output_type": "execute_result"
    }
   ],
   "source": [
    "math_obj.add(5,8)"
   ]
  },
  {
   "cell_type": "raw",
   "id": "eef816a4-b250-4503-bbf6-1daf643834c5",
   "metadata": {},
   "source": [
    "Q12- Explain the use of the `super()` function in Python constructors. Provide an example."
   ]
  },
  {
   "cell_type": "raw",
   "id": "7da0ca04-66b0-4fbd-82fb-b282d260dc4d",
   "metadata": {},
   "source": [
    "Ans-  The super() function in Python is used to refer to the parent class or superclass. It allows you to call methods defined in the superclass from the subclass, enabling you to extend and customize the functionality inherited from the parent class."
   ]
  },
  {
   "cell_type": "code",
   "execution_count": 6,
   "id": "48b12fb4-f665-487a-929b-d17a780ea45b",
   "metadata": {},
   "outputs": [
    {
     "name": "stdout",
     "output_type": "stream",
     "text": [
      "Name: John Doe\n",
      "ID: 101\n",
      "Department: Engineering\n"
     ]
    }
   ],
   "source": [
    "class Person:\n",
    "    def __init__(self, name, id):\n",
    "        self.name = name\n",
    "        self.id = id\n",
    "\n",
    "class Employee(Person):\n",
    "    def __init__(self, name, id, department):\n",
    "        super().__init__(name, id)  # Call the parent class's constructor\n",
    "        self.department = department\n",
    "\n",
    "emp = Employee(\"John Doe\", 101, \"Engineering\")\n",
    "print(\"Name:\", emp.name)\n",
    "print(\"ID:\", emp.id)\n",
    "print(\"Department:\", emp.department)\n"
   ]
  },
  {
   "cell_type": "raw",
   "id": "b43c6bf0-f208-41cc-b2a8-67584fcae788",
   "metadata": {},
   "source": [
    "Q13- Create a class called `Book` with a constructor that initializes the `title`, `author`, and `published_year` \n",
    "attributes. Provide a method to display book details."
   ]
  },
  {
   "cell_type": "code",
   "execution_count": 7,
   "id": "4a94d586-5f72-4fe4-980e-fc57b16cc398",
   "metadata": {},
   "outputs": [
    {
     "name": "stdout",
     "output_type": "stream",
     "text": [
      "Title: The Great Gatsby\n",
      "Author: F. Scott Fitzgerald\n",
      "Published Year: 1925\n"
     ]
    }
   ],
   "source": [
    "class Book:\n",
    "    def __init__(self, title, author, published_year):\n",
    "        self.title = title\n",
    "        self.author = author\n",
    "        self.published_year = published_year\n",
    "\n",
    "    def display_details(self):\n",
    "        print(f\"Title: {self.title}\")\n",
    "        print(f\"Author: {self.author}\")\n",
    "        print(f\"Published Year: {self.published_year}\")\n",
    "\n",
    "my_book = Book(\"The Great Gatsby\", \"F. Scott Fitzgerald\", 1925)\n",
    "my_book.display_details()\n"
   ]
  },
  {
   "cell_type": "raw",
   "id": "b0381887-7ae5-48f1-801d-cf4f95cb28a3",
   "metadata": {},
   "source": [
    "Q14-  Discuss the differences between constructors and regular methods in Python classes"
   ]
  },
  {
   "cell_type": "raw",
   "id": "b41ea113-9a1e-4b3d-8424-73826c437de8",
   "metadata": {},
   "source": [
    "Ans- Constructors:\n",
    "*Purpose: Constructors are special methods used for object initialization. They run automatically when an object of the class is created.\n",
    "*Name: The constructor method is named __init__.\n",
    "Parameters: It takes at least one parameter (self) to refer to the instance being created. Additional parameters can be defined as needed.\n",
    "*Execution: Constructors execute once during object creation.\n",
    "*Attributes: Constructors set initial attributes (instance variables) for the object.\n",
    "\n",
    "Regular Methods:\n",
    "*Purpose: Regular methods perform specific actions or computations on the object’s data.\n",
    "*Name: Regular methods have any name (not reserved like __init__).\n",
    "*Parameters: They take at least one parameter (self) to operate on the instance.\n",
    "*Execution: Regular methods can be called multiple times after object creation.\n"
   ]
  },
  {
   "cell_type": "raw",
   "id": "1bf59776-8bb2-4706-a927-72f03feea074",
   "metadata": {},
   "source": [
    "Q15-  Explain the role of the `self` parameter in instance variable initialization within a constructor."
   ]
  },
  {
   "cell_type": "raw",
   "id": "a6e031ea-5790-4a15-9037-dad2572b215e",
   "metadata": {},
   "source": [
    "Ans- self parameter in instance variable initialization within a constructor in Python:\n",
    "The __init__ method always takes self as its first parameter, followed by any other parameters needed for object instantiation\n",
    "\n",
    "1.Understanding self:\n",
    "*The self parameter is a reference to the current instance of the class.\n",
    "*When you create an object (instance) of a class, Python automatically passes the instance itself as self to the constructor.\n",
    "*Inside the constructor, you can use self to access and modify the object’s attributes.\n",
    "*It allows you to differentiate between instance variables and local variables \n",
    "\n",
    "2.Initializing Attributes:\n",
    "Within the constructor, you assign values to instance variables using self.\n",
    "For example:\n",
    "Python\n",
    "\n",
    "class Person:\n",
    "    def __init__(self, name, age):\n",
    "        self.name = name\n",
    "        self.age = age\n",
    "\n",
    "Here, self.name and self.age are instance variables specific to each Person object.\n",
    "When you create a Person instance, the constructor initializes these attributes based on the provided arguments."
   ]
  },
  {
   "cell_type": "raw",
   "id": "b32e32e4-4aac-4cb3-85c6-b52d9258ab44",
   "metadata": {},
   "source": [
    "Q16- How do you prevent a class from having multiple instances by using constructors in Python? Provide an \n",
    "example."
   ]
  },
  {
   "cell_type": "raw",
   "id": "4f4acb4b-121d-4829-b3ad-6cdbeedc2c1a",
   "metadata": {},
   "source": [
    "Ans- To prevent a class from having multiple instances, you can override the __new__() method in the base class. By doing so, you can ensure that only child classes (subclasses) are allowed to be instantiated, while the base class itself cannot be directly instantiated."
   ]
  },
  {
   "cell_type": "code",
   "execution_count": 2,
   "id": "19b63059-f3cb-4522-9273-1b6134f1333d",
   "metadata": {},
   "outputs": [
    {
     "data": {
      "text/plain": [
       "'subclass 2'"
      ]
     },
     "execution_count": 2,
     "metadata": {},
     "output_type": "execute_result"
    }
   ],
   "source": [
    "class BaseClass:\n",
    "    def __new__(cls, *args, **kwargs):\n",
    "        if cls is BaseClass:\n",
    "            raise TypeError(f\"Only children of '{cls.__name__}' may be instantiated\")\n",
    "        return object.__new__(cls, *args, **kwargs)\n",
    "\n",
    "class SubClassOne(BaseClass):\n",
    "    def subclass_method(self):\n",
    "        return 'subclass 1'\n",
    "\n",
    "class SubClassTwo(BaseClass):\n",
    "    def subclass_method(self):\n",
    "        return 'subclass 2'\n",
    "\n",
    "s1 = SubClassOne()\n",
    "s1.subclass_method()  # Output: 'subclass 1'"
   ]
  },
  {
   "cell_type": "code",
   "execution_count": 3,
   "id": "3935ef13-4161-4ad9-8235-176dce01b065",
   "metadata": {},
   "outputs": [
    {
     "data": {
      "text/plain": [
       "'subclass 2'"
      ]
     },
     "execution_count": 3,
     "metadata": {},
     "output_type": "execute_result"
    }
   ],
   "source": [
    "s2 = SubClassTwo()\n",
    "s2.subclass_method()  # Output: 'subclass 2'"
   ]
  },
  {
   "cell_type": "raw",
   "id": "357ef6b5-57dc-45f6-a154-a90b1969fee5",
   "metadata": {},
   "source": [
    "Q17- Create a Python class called `Student` with a constructor that takes a list of subjects as a parameter and \n",
    "initializes the `subjects` attribute."
   ]
  },
  {
   "cell_type": "code",
   "execution_count": 4,
   "id": "7e290fe8-11bd-40b6-9b23-76a678778373",
   "metadata": {},
   "outputs": [
    {
     "name": "stdout",
     "output_type": "stream",
     "text": [
      "Subjects for student1: ['Math', 'Science', 'History']\n"
     ]
    }
   ],
   "source": [
    "class Student:\n",
    "    def __init__(self, subjects):\n",
    "        self.subjects = subjects\n",
    "\n",
    "student1 = Student([\"Math\", \"Science\", \"History\"])\n",
    "print(\"Subjects for student1:\", student1.subjects)\n"
   ]
  },
  {
   "cell_type": "raw",
   "id": "1a02e707-47fa-4328-aafe-303d189d6463",
   "metadata": {},
   "source": [
    "Q18- What is the purpose of the `__del__` method in Python classes, and how does it relate to constructors?"
   ]
  },
  {
   "cell_type": "raw",
   "id": "861ff9af-37ae-4681-bae9-ce7f48cd68a6",
   "metadata": {},
   "source": [
    "Ans- The __del__ method in Python is called the destructor. It’s invoked when an object is about to be destroyed.Unlike constructors (__init__), which are called when an object is created, destructors handle cleanup tasks before an object is removed from memory. You can use it to release resources, close files, or perform other necessary cleanup operations. "
   ]
  },
  {
   "cell_type": "raw",
   "id": "05aca0c5-8a35-42e9-aa6c-2517e6417a97",
   "metadata": {},
   "source": [
    "Q19- Explain the use of constructor chaining in Python. Provide a practical example."
   ]
  },
  {
   "cell_type": "raw",
   "id": "6fe5596d-9967-4467-85a1-701aca8aa574",
   "metadata": {},
   "source": [
    "Ans- Constructor chaining in Python refers to the process of calling one constructor from another within the same class or between parent and child classes. It allows you to reuse code and initialize attributes effectively.\n",
    "\n",
    "we can achive constructor chaining in python by using \"super()\" function:\n",
    "-In a derived class, you can call the constructor of the base class using super().__init__(...).\n",
    "-This ensures that both the base class and derived class constructors are executed.\n",
    "Here is an example:"
   ]
  },
  {
   "cell_type": "code",
   "execution_count": 13,
   "id": "82effae6-a4c5-44ac-9d92-e6c426c3a5a2",
   "metadata": {},
   "outputs": [],
   "source": [
    "class data:\n",
    "    def __init__(self,mentor_id,mentor_name):\n",
    "        self.mentor_id=mentor_id\n",
    "        self.mentor_name=mentor_name      \n",
    "        \n",
    "class webdev(data):\n",
    "    def __init__(self, lecture_name ,mentor_id,mentor_name):\n",
    "        super().__init__(mentor_id, mentor_name)\n",
    "        self.lecture_name=lecture_name\n",
    "        \n",
    "        \n",
    "    def show_mentor(self):\n",
    "        print(\"mentor details:\\nName:\",self.mentor_name,\",ID:\",self.mentor_id,\",Lecture:\",self.lecture_name)\n",
    " \n"
   ]
  },
  {
   "cell_type": "code",
   "execution_count": 14,
   "id": "56aba80a-5b7c-4999-9252-ff8585f3a0df",
   "metadata": {},
   "outputs": [],
   "source": [
    "mentor1=webdev(\"wev developement\",1,\"Tarun\")"
   ]
  },
  {
   "cell_type": "code",
   "execution_count": 15,
   "id": "aeefc693-68db-47cd-bf90-f2f1136f5a26",
   "metadata": {},
   "outputs": [
    {
     "name": "stdout",
     "output_type": "stream",
     "text": [
      "mentor details:\n",
      "Name: Tarun ,ID: 1 ,Lecture: wev developement\n"
     ]
    }
   ],
   "source": [
    "mentor1.show_mentor()"
   ]
  },
  {
   "cell_type": "code",
   "execution_count": 16,
   "id": "b98353fe-6087-42c6-964b-84053b13f381",
   "metadata": {},
   "outputs": [],
   "source": [
    "mentor2=webdev(\"Data science\",2,\"Subh\")"
   ]
  },
  {
   "cell_type": "code",
   "execution_count": 17,
   "id": "39cb613c-f44b-4980-8bab-54c518b691cb",
   "metadata": {},
   "outputs": [
    {
     "name": "stdout",
     "output_type": "stream",
     "text": [
      "mentor details:\n",
      "Name: Subh ,ID: 2 ,Lecture: Data science\n"
     ]
    }
   ],
   "source": [
    "mentor2.show_mentor()"
   ]
  },
  {
   "cell_type": "raw",
   "id": "777014ea-1b02-40db-a5ea-c8dba2b4d81c",
   "metadata": {},
   "source": [
    "Q20- Create a Python class called `Car` with a default constructor that initializes the `make` and `model` \n",
    "attributes. Provide a method to display car information"
   ]
  },
  {
   "cell_type": "code",
   "execution_count": 18,
   "id": "9d09d5e8-3dd6-405e-82da-2d868381391b",
   "metadata": {},
   "outputs": [
    {
     "name": "stdout",
     "output_type": "stream",
     "text": [
      "Car details:\n",
      "Make: Toyota\n",
      "Model: Camry\n"
     ]
    }
   ],
   "source": [
    "class Car:\n",
    "    def __init__(self, make, model):\n",
    "        self.make = make\n",
    "        self.model = model\n",
    "\n",
    "    def display_info(self):\n",
    "        print(f\"Car details:\\nMake: {self.make}\\nModel: {self.model}\")\n",
    "\n",
    "my_car = Car(make=\"Toyota\", model=\"Camry\")\n",
    "my_car.display_info()\n"
   ]
  },
  {
   "cell_type": "code",
   "execution_count": null,
   "id": "b5e7612e-f3d3-4634-85d3-5837b1239933",
   "metadata": {},
   "outputs": [],
   "source": []
  }
 ],
 "metadata": {
  "kernelspec": {
   "display_name": "Python 3 (ipykernel)",
   "language": "python",
   "name": "python3"
  },
  "language_info": {
   "codemirror_mode": {
    "name": "ipython",
    "version": 3
   },
   "file_extension": ".py",
   "mimetype": "text/x-python",
   "name": "python",
   "nbconvert_exporter": "python",
   "pygments_lexer": "ipython3",
   "version": "3.10.8"
  }
 },
 "nbformat": 4,
 "nbformat_minor": 5
}
