{
 "cells": [
  {
   "cell_type": "code",
   "execution_count": 1,
   "id": "9292c2cb-531f-4de7-8a87-16ad400ef026",
   "metadata": {},
   "outputs": [
    {
     "name": "stdout",
     "output_type": "stream",
     "text": [
      "before swapping\n",
      " A= 10 \n",
      " B= 20\n",
      "after swapping\n",
      " A= 20 \n",
      " B= 10\n"
     ]
    }
   ],
   "source": [
    "# program to swap to integers without using temprary variable\n",
    "A=10\n",
    "B=20\n",
    "print(\"before swapping\\n A=\",A,\"\\n B=\",B)\n",
    "A,B=B,A\n",
    "print(\"after swapping\\n A=\",A,\"\\n B=\",B)"
   ]
  },
  {
   "cell_type": "code",
   "execution_count": 2,
   "id": "69655109-0730-41b1-8b23-ab9688c1f7c2",
   "metadata": {},
   "outputs": [
    {
     "name": "stdin",
     "output_type": "stream",
     "text": [
      "enter value of length: 6\n",
      "enter the value of width: 8\n"
     ]
    },
    {
     "name": "stdout",
     "output_type": "stream",
     "text": [
      "The area of rectengular is: 48\n"
     ]
    }
   ],
   "source": [
    "# program to calculate area of a rectangular\n",
    " \n",
    "length=int(input(\"enter value of length:\"))    \n",
    "width=int(input(\"enter the value of width:\"))\n",
    "Rect_Area=length*width\n",
    "print(\"The area of rectengular is:\",Rect_Area)"
   ]
  },
  {
   "cell_type": "code",
   "execution_count": 3,
   "id": "cd996924-1028-49e2-8465-04fed927501d",
   "metadata": {},
   "outputs": [
    {
     "name": "stdin",
     "output_type": "stream",
     "text": [
      "enter the Tempreture in celcius: 25\n"
     ]
    },
    {
     "name": "stdout",
     "output_type": "stream",
     "text": [
      "Tempreture in fehrenheit: 77.0\n"
     ]
    }
   ],
   "source": [
    "# Program to convert Tempreture from celcius to fehrenheit\n",
    "\n",
    "C=float(input(\"enter the Tempreture in celcius:\"))\n",
    "F=(C*1.8)+32\n",
    "print(\"Tempreture in fehrenheit:\",F)"
   ]
  },
  {
   "cell_type": "code",
   "execution_count": 4,
   "id": "a5b5e2dc-d8c6-474f-bd97-8d4eeb64624c",
   "metadata": {},
   "outputs": [
    {
     "name": "stdin",
     "output_type": "stream",
     "text": [
      "enter the sentence hello python word\n"
     ]
    },
    {
     "data": {
      "text/plain": [
       "17"
      ]
     },
     "execution_count": 4,
     "metadata": {},
     "output_type": "execute_result"
    }
   ],
   "source": [
    "#find length of sentence entered by use\n",
    "\n",
    "S=input(\"enter the sentence\")\n",
    "len(S)"
   ]
  },
  {
   "cell_type": "code",
   "execution_count": 5,
   "id": "744a3a0a-e3b1-4c62-bbdb-5bc0a6ec871b",
   "metadata": {},
   "outputs": [
    {
     "name": "stdin",
     "output_type": "stream",
     "text": [
      "enter the sentence: coding is very easy\n"
     ]
    },
    {
     "name": "stdout",
     "output_type": "stream",
     "text": [
      "the number of vowels in sentence: 6\n"
     ]
    }
   ],
   "source": [
    "#program to count number of vowels in sentence\n",
    "\n",
    "S1=input('enter the sentence:')\n",
    "count=0\n",
    "List=['a','e','i','o','u']\n",
    "for char in S1:\n",
    "    if char in List:\n",
    "        count=count+1\n",
    "        \n",
    "print('the number of vowels in sentence:',count)"
   ]
  },
  {
   "cell_type": "code",
   "execution_count": 7,
   "id": "389d7323-3790-47a2-9531-861e06baed00",
   "metadata": {},
   "outputs": [
    {
     "name": "stdin",
     "output_type": "stream",
     "text": [
      "enter the sentence of reverse hello ji\n"
     ]
    },
    {
     "data": {
      "text/plain": [
       "'ij olleh'"
      ]
     },
     "execution_count": 7,
     "metadata": {},
     "output_type": "execute_result"
    }
   ],
   "source": [
    "# reverse the orfer of characters using string slicing\n",
    "\n",
    "S3=input(\"enter the sentence of reverse\")\n",
    "S3[::-1]"
   ]
  },
  {
   "cell_type": "code",
   "execution_count": 8,
   "id": "c20ac895-eb2e-4660-b9f0-a40bbe7adfc9",
   "metadata": {},
   "outputs": [
    {
     "name": "stdin",
     "output_type": "stream",
     "text": [
      "enter your sentence to check palindrome: carac\n"
     ]
    },
    {
     "name": "stdout",
     "output_type": "stream",
     "text": [
      "sentence is palindrome\n"
     ]
    }
   ],
   "source": [
    "# program to check string is palindrome \n",
    "\n",
    "S4=input(\"enter your sentence to check palindrome:\")\n",
    "P=S4[::-1]\n",
    "if(S4==P):\n",
    "    print(\"sentence is palindrome\")\n",
    "else:\n",
    "    print(\"sentence is not palindrome\" )"
   ]
  },
  {
   "cell_type": "code",
   "execution_count": 11,
   "id": "fa8a0717-961e-4640-adca-1ebf91abffea",
   "metadata": {},
   "outputs": [
    {
     "name": "stdin",
     "output_type": "stream",
     "text": [
      "enter the sentence: i love my india\n"
     ]
    },
    {
     "name": "stdout",
     "output_type": "stream",
     "text": [
      "sentence without space: ilovemyindia\n"
     ]
    }
   ],
   "source": [
    "# program to remove space from user given sentence\n",
    "\n",
    "S5=input(\"enter the sentence:\")\n",
    "S5=S5.replace(\" \",\"\")\n",
    "print(\"sentence without space:\",S5)"
   ]
  },
  {
   "cell_type": "code",
   "execution_count": null,
   "id": "87fd1670-5804-4c17-b3fd-6ae6b0eca4cb",
   "metadata": {},
   "outputs": [],
   "source": []
  }
 ],
 "metadata": {
  "kernelspec": {
   "display_name": "Python 3 (ipykernel)",
   "language": "python",
   "name": "python3"
  },
  "language_info": {
   "codemirror_mode": {
    "name": "ipython",
    "version": 3
   },
   "file_extension": ".py",
   "mimetype": "text/x-python",
   "name": "python",
   "nbconvert_exporter": "python",
   "pygments_lexer": "ipython3",
   "version": "3.10.8"
  }
 },
 "nbformat": 4,
 "nbformat_minor": 5
}
