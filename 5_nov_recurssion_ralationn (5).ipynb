{
 "cells": [
  {
   "cell_type": "markdown",
   "id": "fe6e8c52-d32f-4403-82c1-1a89787f5c86",
   "metadata": {},
   "source": [
    "Q1. Find the value of T(2) for the rec%rrence relation T(n) = 3T(n-1) + 12n, given that T(0)=5."
   ]
  },
  {
   "cell_type": "code",
   "execution_count": null,
   "id": "b9170fd6-ab2d-4001-ba75-db7669ee22f5",
   "metadata": {},
   "outputs": [],
   "source": [
    "\"\"\"Ans-.T(n)=3T(n-1)+12n\n",
    "    T(1)=3T(1-1)+12(1)\n",
    "    T(1)=3T(0)+12\n",
    "    T(1)=3*5+12\n",
    "    T(1)=27   ---- @1\n",
    "    T(2)=3T(2-1)+12(2)\n",
    "    \n",
    "    putting T(1) value from @1\n",
    "    T(2)=3*27+24\n",
    "    T(2)=105    --ans.\"\"\""
   ]
  },
  {
   "cell_type": "markdown",
   "id": "921aeb8c-803a-4316-96e9-506f53407fa5",
   "metadata": {},
   "source": [
    "Q2. Given a recurrence relation, solve it using the substitution method:\n",
    "a. T(n) = T(n-1) + c\n",
    "b. T(n) = 2T(n/2) + n\n",
    "c. T(n) = 2T(n/2) + c\n",
    "d. T(n) = T(n/2) + c"
   ]
  },
  {
   "cell_type": "code",
   "execution_count": null,
   "id": "bfcc17aa-c853-4787-bf64-15a95229c74f",
   "metadata": {},
   "outputs": [],
   "source": [
    "\"\"\"Ans-a. T(n)=T(n-1)+c\n",
    "   T(n-1)=T(n-2) +c\n",
    "   T(n)=T(n-2) +c +c\n",
    "   T(n)=T(n-3) +c +c +c\n",
    "   T(n)=T(n-k) +k.c\n",
    "   if n-k=0 then\n",
    "      n=k\n",
    "   T(n)=T(n-n)+ n.c\n",
    "   T(n)= 0+ n.c\n",
    "   T(n)= O(n)    ---ans\"\"\"\n"
   ]
  },
  {
   "cell_type": "code",
   "execution_count": null,
   "id": "d186e6a8-3664-4598-a21a-23a4413a179d",
   "metadata": {},
   "outputs": [],
   "source": [
    "\"\"\"Ans-b. T(n)=2T(n/2)+n\n",
    "   T(n/2)=2T(n/4)+n/2    ---@1\n",
    "   T(n)=2[2T(n/4)+n/2]+n\n",
    "   T(n)=4T(n/4) +n +n    ---@2\n",
    "   \n",
    "   T(n/4)=2T(n/8) +n/4\n",
    "   \n",
    "   putting T(n/4) in @2\n",
    "   T(n)=4[2T(n/8)+n/4] +n +n\n",
    "   T(n)=8T(n/8) +n+n+n\n",
    "   T(n)=2^3 T(n/2^3) +3n\n",
    "   T(n)=2^k T(n/2^k) +K.n\n",
    "   \n",
    "   assume n/2^k=1 then\n",
    "          n=2^k\n",
    "          k=logn\n",
    "        \n",
    "   T(n)=n T(1) + k.n\n",
    "   T(n)= n+logn\n",
    "   T(n)= O(n+logn)    ---ans\"\"\""
   ]
  },
  {
   "cell_type": "code",
   "execution_count": null,
   "id": "e0669d8a-a9ec-4dfe-bd1a-410a68d47e7c",
   "metadata": {},
   "outputs": [],
   "source": [
    "\"\"\"Ans-c. T(n)=2T(n/2)+c\n",
    "   T(n/2)=2T(n/4)+c\n",
    "   T(n)=4 T(n/4) +2c +c\n",
    "   T(n)=8 T(n/8) +3c+ 2c +c\n",
    "   T(n)=2^3 T(n/2^3) +2^k+1 .c\n",
    "   T(n)=2^k T(n/2^k) +2^k (k) .c\n",
    "   \n",
    "   if n/2^k=0 then\n",
    "      n=2^k\n",
    "      k=logn\n",
    "   T(n)= n(0) + n (logn) .c\n",
    "   T(n)= O(nlogn)   ---Ans\"\"\""
   ]
  },
  {
   "cell_type": "code",
   "execution_count": null,
   "id": "7b6bf350-1780-4804-a12d-da4592b697f9",
   "metadata": {},
   "outputs": [],
   "source": [
    "\"\"\"Ans-d. T(n)=T(n/2)+c\n",
    "   T(n)=T(n/4) +c +c\n",
    "   T(n)=T(n/8) +c +c +c\n",
    "   T(n)=T(n/2^k) +k.c\n",
    "   \n",
    "   if n/2^k=1 then\n",
    "      n=2^k\n",
    "      k=logn\n",
    "      \n",
    "   T(n)=T(1)+ logn.c\n",
    "   T(n)= O(logn)\"\"\""
   ]
  },
  {
   "cell_type": "markdown",
   "id": "c9b2b454-c16d-47ee-9d18-690a8488d1b9",
   "metadata": {},
   "source": [
    "3. Given a recurrence relation, solve it using the recursive tree approach:\n",
    "a. T(n) = 2T(n-1) +1\n",
    "b. T(n) = 2T(n/2) + n"
   ]
  },
  {
   "cell_type": "code",
   "execution_count": null,
   "id": "22e96aec-8f16-4cc4-a25e-f9cd1021e776",
   "metadata": {},
   "outputs": [],
   "source": [
    "\"\"\"Ans-a. at level 1= T(1)=2T(n-1)+1\n",
    "   at level 2= T(2)=4T(n-2)+2\n",
    "   at level k= T(3)=2^kT(n-k)+k\n",
    "   if n-k=1 then\n",
    "      n=k\n",
    "   T(n)=2^n(1) +n\n",
    "   T(n)= O(2^n)\"\"\"\n",
    "   "
   ]
  },
  {
   "cell_type": "code",
   "execution_count": null,
   "id": "34720264-4a45-4d39-ad8f-a0ffc5606934",
   "metadata": {},
   "outputs": [],
   "source": [
    "\"\"\"Ans-b. T(n) = 2T(n/2) + n\n",
    "   T(n)= O(nlogn)\"\"\""
   ]
  }
 ],
 "metadata": {
  "kernelspec": {
   "display_name": "Python 3 (ipykernel)",
   "language": "python",
   "name": "python3"
  },
  "language_info": {
   "codemirror_mode": {
    "name": "ipython",
    "version": 3
   },
   "file_extension": ".py",
   "mimetype": "text/x-python",
   "name": "python",
   "nbconvert_exporter": "python",
   "pygments_lexer": "ipython3",
   "version": "3.10.8"
  }
 },
 "nbformat": 4,
 "nbformat_minor": 5
}
