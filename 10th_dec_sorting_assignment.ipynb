{
 "cells": [
  {
   "cell_type": "markdown",
   "id": "dba4c021-e6ab-48ec-81f9-234e903fc451",
   "metadata": {},
   "source": [
    "Problem 1.Given an array of n numbers, give an algorithm which gives the element appearing maximum\n",
    "number of times?"
   ]
  },
  {
   "cell_type": "code",
   "execution_count": 32,
   "id": "ad8df221-3428-4904-8a8b-91d719b6d32f",
   "metadata": {},
   "outputs": [
    {
     "data": {
      "text/plain": [
       "5"
      ]
     },
     "execution_count": 32,
     "metadata": {},
     "output_type": "execute_result"
    }
   ],
   "source": [
    "def countmaxapp(arr):\n",
    "    n=len(arr)\n",
    "    ncount=0\n",
    "    pcount=0\n",
    "    num=arr[0]\n",
    "    for i in range(n):\n",
    "        for j in range(i+1,n):\n",
    "            if arr[i]==arr[j]:\n",
    "                ncount+=1\n",
    "            if ncount>pcount:\n",
    "                pcount=ncount\n",
    "                num=arr[i]\n",
    "                ncount=0\n",
    "                \n",
    "            \n",
    "    return num\n",
    "\n",
    "arr=[5,9,5,6,7,3,5,2,]\n",
    "countmaxapp(arr)"
   ]
  },
  {
   "cell_type": "markdown",
   "id": "dabe372e-d311-424c-914e-38f12abe8a20",
   "metadata": {},
   "source": [
    "Problem 2 : We are given a list of n-1 integers and these integers are in the range of 1 to n . There are no \n",
    "duplicates in the list. One of the integers is missing in the list. Give an algorithm to find that element Ex: \n",
    "[1,2,4,6,3,7,8] 5 is the missing num."
   ]
  },
  {
   "cell_type": "code",
   "execution_count": 11,
   "id": "fff50f16-c49f-4632-9269-79c063c28fbf",
   "metadata": {},
   "outputs": [
    {
     "name": "stdout",
     "output_type": "stream",
     "text": [
      "The missing number is: 5\n"
     ]
    }
   ],
   "source": [
    "def cbi(arr):\n",
    "    n=len(arr)+1         \n",
    "    real_sum=n*(n+1)//2       # finding sum of n+1 numbers considering 1 num is not missing\n",
    "    nsum=0                    \n",
    "    for i in range(n-1):\n",
    "        nsum+=arr[i]\n",
    "    return real_sum-nsum\n",
    "\n",
    "arr=[1,2,4,6,3,7,8]\n",
    "print(\"The missing number is:\",cbi(arr))"
   ]
  },
  {
   "cell_type": "markdown",
   "id": "9ead8cc9-8d7c-4ef1-8e9a-89fc3bba7e5d",
   "metadata": {},
   "source": [
    "Problem 3 : Given an array of n positive numbers. All numbers occurs even number of times except 1 which \n",
    "occurs odd number of times. Find that number in O(n) time and O(1) space. Ex: [1,2,3,2,3,1,3]. 3 is repeats odd \n",
    "times."
   ]
  },
  {
   "cell_type": "code",
   "execution_count": 4,
   "id": "d89922ed-7c7c-4359-878d-2c5b7afce4ed",
   "metadata": {},
   "outputs": [
    {
     "name": "stdout",
     "output_type": "stream",
     "text": [
      "The number which occure odd time is: 3\n"
     ]
    }
   ],
   "source": [
    "def find_odd_occurrence(arr):\n",
    "    result = 0\n",
    "    n=len(arr)\n",
    "    for i in range(n):\n",
    "        result ^= arr[i]\n",
    "    return result\n",
    "\n",
    "arr = [1, 2, 3, 2, 3, 1, 3]\n",
    "re=find_odd_occurrence(arr)  \n",
    "print(\"The number which occure odd time is:\",re)"
   ]
  },
  {
   "cell_type": "markdown",
   "id": "e90632b4-3840-46eb-9008-2bfd7e43a2e0",
   "metadata": {},
   "source": [
    "Problem 4 : Given an array of n elements. Find two elements in the array such that their sum is equal to given\n",
    "element K.\n"
   ]
  },
  {
   "cell_type": "code",
   "execution_count": 14,
   "id": "5691aa79-ae6c-4262-8610-cb28c0773267",
   "metadata": {},
   "outputs": [
    {
     "data": {
      "text/plain": [
       "(6, 9)"
      ]
     },
     "execution_count": 14,
     "metadata": {},
     "output_type": "execute_result"
    }
   ],
   "source": [
    "def twosum(arr,k):\n",
    "    n=len(arr)\n",
    "    si=0\n",
    "    ei=n-1\n",
    "    arr.sort()     # time complexity O(nlogn)\n",
    "    while si<ei:\n",
    "        if arr[si]+arr[ei]==k:\n",
    "            return arr[si] ,arr[ei] \n",
    "        elif arr[si]+arr[ei]<k:\n",
    "            si+=1\n",
    "        elif arr[si]+arr[ei]>k:\n",
    "            ei-=1\n",
    "    return f\"No pair available\"\n",
    "            \n",
    "arr=[4,2,6,9,1,8]\n",
    "twosum(arr,15)"
   ]
  },
  {
   "cell_type": "markdown",
   "id": "334605ab-d919-4729-9d8e-6584a0b865cc",
   "metadata": {},
   "source": [
    "Problem 5 : Given an array of both positive and negative numbers, find two numbers such that their sum is\n",
    "closest to 0. Ex: [ 1 ,60 ,-10, 70, -80,85]. Ans : -80,85."
   ]
  },
  {
   "cell_type": "code",
   "execution_count": 11,
   "id": "11950f50-402d-4d99-a1a7-b7489efe3db9",
   "metadata": {},
   "outputs": [
    {
     "name": "stdout",
     "output_type": "stream",
     "text": [
      "(-80, 85)\n",
      "(-18, 4)\n"
     ]
    }
   ],
   "source": [
    "def closest0(arr):\n",
    "    n=len(arr)\n",
    "    si=0\n",
    "    ei=n-1\n",
    "    min_sum=float('inf')\n",
    "    arr.sort()\n",
    "    while si<ei:\n",
    "        s=arr[si]+arr[ei]\n",
    "        if abs(s)<abs(min_sum):\n",
    "            min_sum=s\n",
    "            pair=(arr[si],arr[ei])\n",
    "        if s>0:\n",
    "            ei-=1\n",
    "        if s<0:\n",
    "            si+=1\n",
    "            \n",
    "        \n",
    "    \n",
    "    return pair\n",
    "        \n",
    "\n",
    "arr=[ 1 ,60 ,-10, 70, -80,85]\n",
    "arr2=[-67,-65,-37,-21,-18,4]\n",
    "print(closest0(arr))\n",
    "print(closest0(arr2))\n"
   ]
  },
  {
   "cell_type": "markdown",
   "id": "25048d7d-17bf-4113-bc63-caa3b120f082",
   "metadata": {},
   "source": [
    "Problem 6 : Given an array of n elements . Find three elements such that their sum is equal to the given\n",
    "number."
   ]
  },
  {
   "cell_type": "code",
   "execution_count": 1,
   "id": "e5cdb65c-ede6-4676-aec4-8c262dd24a97",
   "metadata": {},
   "outputs": [
    {
     "name": "stdout",
     "output_type": "stream",
     "text": [
      "the pair for sum of k: (4, 6, 5)\n"
     ]
    }
   ],
   "source": [
    "def threesum(arr,k):\n",
    "    n=len(arr)\n",
    "    si=0\n",
    "    ei=n-1\n",
    "    ci=n-2\n",
    "    arr.sort()     # time complexity O(nlogn)\n",
    "    while si<ci:\n",
    "        if arr[si]+arr[ei]+arr[ci]==k:\n",
    "            return arr[si] ,arr[ei], arr[ci] \n",
    "        elif arr[si]+arr[ei]+arr[ci]<k:\n",
    "            si+=1\n",
    "        elif arr[si]+arr[ei]+arr[ci]>k:\n",
    "            ei-=1\n",
    "            ci-=1\n",
    "    return f\"No pair available\"\n",
    "\n",
    "arr=[5,6,4,7,3,11]\n",
    "result=threesum(arr,15)\n",
    "print(\"the pair for sum of k:\",result)"
   ]
  },
  {
   "cell_type": "markdown",
   "id": "3402c798-398e-4bb0-8533-eb930c282baf",
   "metadata": {},
   "source": [
    "Problem 7 : Given an array of n elements . Find three elements i, j, k in the array such that\n",
    "i * i + j * j = k*k."
   ]
  },
  {
   "cell_type": "code",
   "execution_count": 12,
   "id": "1055af29-fbc4-4d8a-8d63-387895c2d11e",
   "metadata": {},
   "outputs": [
    {
     "data": {
      "text/plain": [
       "(3, 4, 5)"
      ]
     },
     "execution_count": 12,
     "metadata": {},
     "output_type": "execute_result"
    }
   ],
   "source": [
    "def products(arr):\n",
    "    arr.sort()\n",
    "    i=0\n",
    "    j=1\n",
    "    k=2\n",
    "    while k<len(arr):\n",
    "        a=arr[i]**2\n",
    "        b=arr[j]**2\n",
    "        c=arr[k]**2\n",
    "        if a+b==c:\n",
    "             return arr[i],arr[j],arr[k]\n",
    "        elif a+b<c:\n",
    "            i+=1\n",
    "            j+=1\n",
    "            k+=1\n",
    "        elif a+b>c:\n",
    "            k+=1\n",
    "    return -1\n",
    "\n",
    "arr=[5,8,9,2,0,1,4,3]\n",
    "products(arr)\n",
    "            \n",
    "            "
   ]
  },
  {
   "cell_type": "markdown",
   "id": "4f9dbce8-9556-431e-ac1f-573d8e2ab101",
   "metadata": {},
   "source": [
    "Problem 8 : An element is a majority if it appears more than n/2 times. Give an algorithm takes an array of n\n",
    "element as argument and identifies a majority (if it exists)."
   ]
  },
  {
   "cell_type": "code",
   "execution_count": 23,
   "id": "5ce89bfe-0f72-4a14-8a04-b748c0eda804",
   "metadata": {},
   "outputs": [
    {
     "name": "stdout",
     "output_type": "stream",
     "text": [
      "Yes, the majority number is 1\n",
      "No Majority found\n"
     ]
    }
   ],
   "source": [
    "def majorityElement(arr):\n",
    "    # Size of the given array\n",
    "    n = len(arr)\n",
    "    cnt = 0  # Count\n",
    "    el = None  # Element\n",
    "\n",
    "    # Applying the algorithm\n",
    "    for i in range(n):\n",
    "        if cnt == 0:\n",
    "            cnt = 1\n",
    "            el = arr[i]\n",
    "        elif el == arr[i]:\n",
    "            cnt += 1\n",
    "        else:\n",
    "            cnt -= 1\n",
    "\n",
    "    # Checking if the stored element is the majority element\n",
    "    cnt1 = 0\n",
    "    for i in range(n):\n",
    "        if arr[i] == el:\n",
    "            cnt1 += 1\n",
    "\n",
    "    if cnt1 > (n / 2):\n",
    "        return el\n",
    "    return -1\n",
    "\n",
    "\n",
    "arr = [2, 2, 1, 1, 1, 2, 2]\n",
    "ans = majorityElement(arr)\n",
    "print(\"The majority element is:\", ans)\n",
    "\n",
    "\n",
    "\n",
    "    \n",
    "    \n",
    "arr = [1, 2, 1, 3, 1, 1]\n",
    "arr2 = [1, 2, 1, 0, 1, 0]\n",
    "print(majority(arr))   \n",
    "print(majority(arr2))  \n"
   ]
  },
  {
   "cell_type": "markdown",
   "id": "1cc4ab65-573a-44f8-96cb-1634ba7298b6",
   "metadata": {},
   "source": [
    "Problem 9 : Given n × n matrix, and in each row all 1’s are followed by 0’s. Find the row with the maximum\n",
    "number of 0’s."
   ]
  },
  {
   "cell_type": "code",
   "execution_count": 1,
   "id": "4d5c6564-89a7-45ae-b721-83bfe012587f",
   "metadata": {},
   "outputs": [
    {
     "name": "stdout",
     "output_type": "stream",
     "text": [
      "Row with the maximum number of zeros is: 1\n"
     ]
    }
   ],
   "source": [
    "def find_row_with_max_zeros(matrix):\n",
    "    n = len(matrix)  \n",
    "    max_zeros = 0\n",
    "    row_index = -1\n",
    "    \n",
    "    for i in range(n):\n",
    "        for j in range(n):\n",
    "            if matrix[i][j] == 0:\n",
    "                num_zeros = n - j  \n",
    "                if num_zeros > max_zeros:\n",
    "                    max_zeros = num_zeros\n",
    "                    row_index = i\n",
    "                break  \n",
    "\n",
    "    return row_index\n",
    "\n",
    "matrix = [\n",
    "    [1, 1, 0, 0],\n",
    "    [1, 0, 0, 0],\n",
    "    [1, 1, 1, 0],\n",
    "    [1, 1, 1, 1]\n",
    "]\n",
    "\n",
    "result = find_row_with_max_zeros(matrix)\n",
    "print(f\"Row with the maximum number of zeros is: {result}\")\n"
   ]
  },
  {
   "cell_type": "markdown",
   "id": "4c7a5477-4206-4487-a8df-dfd563af1cf3",
   "metadata": {},
   "source": [
    "Problem 10 : Sort an array of 0’s, 1’s and 2’s [or R’s, G’s and B’s]: Given an array A[] consisting of 0’s, 1’s and\n",
    "2’s, give an algorithm for sorting A[].The algorithm should put all 0’s first, then all 1’s and finally all 2’s at the\n",
    "end. Example Input = {0,1,1,0,1,2,1,2,0,0,0,1}, Output = {0,0,0,0,0,1,1,1,1,1,2,2}"
   ]
  },
  {
   "cell_type": "code",
   "execution_count": null,
   "id": "2589878d-91d2-48c1-9cb4-f3c65c26a8eb",
   "metadata": {},
   "outputs": [],
   "source": [
    "def dutch_national_flag(arr):\n",
    "    lo = 0\n",
    "    mid = 0\n",
    "    hi = len(arr) - 1\n",
    "\n",
    "    while mid <= hi:\n",
    "        if arr[mid] == 0:\n",
    "            arr[lo], arr[mid] = arr[mid], arr[lo]\n",
    "            lo += 1\n",
    "            mid += 1\n",
    "        elif arr[mid] == 1:\n",
    "            mid += 1\n",
    "        else:  # arr[mid] == 2\n",
    "            arr[mid], arr[hi] = arr[hi], arr[mid]\n",
    "            hi -= 1\n",
    "\n",
    "    return arr\n",
    "\n",
    "# Example usage:\n",
    "arr = [0, 1, 1, 0, 1, 2, 1, 2, 0, 0, 0, 1]\n",
    "sorted_arr = dutch_national_flag(arr)\n",
    "print(f\"Sorted array: {sorted_arr}\")\n"
   ]
  }
 ],
 "metadata": {
  "kernelspec": {
   "display_name": "Python 3 (ipykernel)",
   "language": "python",
   "name": "python3"
  },
  "language_info": {
   "codemirror_mode": {
    "name": "ipython",
    "version": 3
   },
   "file_extension": ".py",
   "mimetype": "text/x-python",
   "name": "python",
   "nbconvert_exporter": "python",
   "pygments_lexer": "ipython3",
   "version": "3.10.8"
  }
 },
 "nbformat": 4,
 "nbformat_minor": 5
}
