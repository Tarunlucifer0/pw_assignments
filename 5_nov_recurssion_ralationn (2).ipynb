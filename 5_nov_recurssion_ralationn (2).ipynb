{
 "cells": [
  {
   "cell_type": "markdown",
   "id": "fe6e8c52-d32f-4403-82c1-1a89787f5c86",
   "metadata": {},
   "source": [
    "Q1. Find the value of T(2) for the rec%rrence relation T(n) = 3T(n-1) + 12n, given that T(0)=5."
   ]
  },
  {
   "cell_type": "markdown",
   "id": "6b34d7b3-5cdf-41d4-af6e-c1615d581463",
   "metadata": {},
   "source": [
    "Ans.T(n)=3T(n-1)+12n\n",
    "    T(1)=3T(1-1)+12(1)\n",
    "    T(1)=3T(0)+12\n",
    "    T(1)=3*5+12\n",
    "    T(1)=27   ---- @1\n",
    "    T(2)=3T(2-1)+12(2)\n",
    "    \n",
    "    putting T(1) value from @1\n",
    "    T(2)=3*27+24\n",
    "    T(2)=105    --ans.\n",
    "    "
   ]
  },
  {
   "cell_type": "markdown",
   "id": "921aeb8c-803a-4316-96e9-506f53407fa5",
   "metadata": {},
   "source": [
    "Q2. Given a recurrence relation, solve it using the substitution method:\n",
    "a. T(n) = T(n-1) + c\n",
    "b. T(n) = 2T(n/2) + n\n",
    "c. T(n) = 2T(n/2) + c\n",
    "d. T(n) = T(n/2) + c"
   ]
  },
  {
   "cell_type": "markdown",
   "id": "48a3ba59-02e9-4c55-b7b1-54dfdb2db6a6",
   "metadata": {},
   "source": [
    "a. T(n)=T(n-1)+c\n",
    "   T(n-1)=T(n-2) +c\n",
    "   T(n)=T(n-2) +c +c\n",
    "   T(n)=T(n-3) +c +c +c\n",
    "   T(n)=T(n-k) +k.c\n",
    "   if n-k=0 then\n",
    "      n=k\n",
    "   T(n)=T(n-n)+ n.c\n",
    "   T(n)= 0+ n.c\n",
    "   T(n)= O(n)    ---ans\n"
   ]
  },
  {
   "cell_type": "markdown",
   "id": "b180cd17-6b79-42a8-ac0a-cde0e5e149f0",
   "metadata": {},
   "source": [
    "b. T(n)=2T(n/2)+n\n",
    "   T(n/2)=2T(n/4)+n/2    ---@1\n",
    "   T(n)=2[2T(n/4)+n/2]+n\n",
    "   T(n)=4T(n/4) +n +n    ---@2\n",
    "   \n",
    "   T(n/4)=2T(n/8) +n/4\n",
    "   \n",
    "   putting T(n/4) in @2\n",
    "   T(n)=4[2T(n/8)+n/4] +n +n\n",
    "   T(n)=8T(n/8) +n+n+n\n",
    "   T(n)=2^3 T(n/2^3) +3n\n",
    "   T(n)=2^k T(n/2^k) +K.n\n",
    "   \n",
    "   assume n/2^k=1 then\n",
    "          n=2^k\n",
    "          k=logn\n",
    "        \n",
    "   T(n)=n T(1) + k.n\n",
    "   T(n)= n+logn\n",
    "   T(n)= O(n+logn)    ---ans"
   ]
  },
  {
   "cell_type": "markdown",
   "id": "a7cf43de-4120-42bf-a8b6-380ef4d31711",
   "metadata": {},
   "source": [
    "c. T(n)=2T(n/2)+c\n",
    "   T(n/2)=2T(n/4)+c\n",
    "   T(n)=4 T(n/4) +2c +c\n",
    "   T(n)=8 T(n/8) +3c+ 2c +c\n",
    "   T(n)=2^3 T(n/2^3) +2^k+1 .c\n",
    "   T(n)=2^k T(n/2^k) +2^k (k) .c\n",
    "   \n",
    "   if n/2^k=0 then\n",
    "      n=2^k\n",
    "      k=logn\n",
    "   T(n)= n(0) + n (logn) .c\n",
    "   T(n)= O(nlogn)   ---Ans"
   ]
  },
  {
   "cell_type": "markdown",
   "id": "594512f6-dbef-4ac4-9ec7-2f120951c767",
   "metadata": {},
   "source": [
    "d. T(n)=T(n/2)+c\n",
    "   T(n)=T(n/4) +c +c\n",
    "   T(n)=T(n/8) +c +c +c\n",
    "   T(n)=T(n/2^k) +k.c\n",
    "   \n",
    "   if n/2^k=1 then\n",
    "      n=2^k\n",
    "      k=logn\n",
    "      \n",
    "   T(n)=T(1)+ logn.c\n",
    "   T(n)= O(logn)"
   ]
  },
  {
   "cell_type": "markdown",
   "id": "c9b2b454-c16d-47ee-9d18-690a8488d1b9",
   "metadata": {},
   "source": [
    "3. Given a recurrence relation, solve it using the recursive tree approach:\n",
    "a. T(n) = 2T(n-1) +1\n",
    "b. T(n) = 2T(n/2) + n"
   ]
  },
  {
   "cell_type": "markdown",
   "id": "97ed1ecb-9ed1-40f0-85bf-6f6bf6a2af60",
   "metadata": {},
   "source": [
    "a. at level 1= T(1)=2T(n-1)+1\n",
    "   at level 2= T(2)=4T(n-2)+2\n",
    "   at level k= T(3)=2^kT(n-k)+k\n",
    "   if n-k=1 then\n",
    "      n=k\n",
    "   T(n)=2^n(1) +n\n",
    "   T(n)= O(2^n)\n",
    "   "
   ]
  },
  {
   "cell_type": "markdown",
   "id": "b6807105-d1f1-434a-8ca1-cda9dfc0dd00",
   "metadata": {},
   "source": [
    "b. T(n) = 2T(n/2) + n\n",
    "   T(n)= O(nlogn)"
   ]
  }
 ],
 "metadata": {
  "kernelspec": {
   "display_name": "Python 3 (ipykernel)",
   "language": "python",
   "name": "python3"
  },
  "language_info": {
   "codemirror_mode": {
    "name": "ipython",
    "version": 3
   },
   "file_extension": ".py",
   "mimetype": "text/x-python",
   "name": "python",
   "nbconvert_exporter": "python",
   "pygments_lexer": "ipython3",
   "version": "3.10.8"
  }
 },
 "nbformat": 4,
 "nbformat_minor": 5
}
