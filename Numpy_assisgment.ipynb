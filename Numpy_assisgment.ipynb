{
 "cells": [
  {
   "cell_type": "raw",
   "id": "e9391345-dfe2-491e-b5b8-cab8dbf64af3",
   "metadata": {},
   "source": [
    "Q1. What is a Python library? Why do we use Python libraries?"
   ]
  },
  {
   "cell_type": "raw",
   "id": "3f422704-baaf-429d-a29c-6cd85f3d8968",
   "metadata": {},
   "source": [
    "Ans- Library is the collection of function() definations.\n",
    " A Python library is a collection of pre-written code, functions,classes,\n",
    "and routines that can be used to perform tasks withoutwriting code from \n",
    "scratch. Python libraries are used for a wide \n",
    "range of purposes, including: \n",
    "1. it is reusable, which impoves code productvity.\n",
    "2. Data analysis: Libraries like pandas and NumPy are used for data manipulation and analysis \n",
    "3. Machine learning: Libraries like scikit-learn and TensorFlow are used for machine learning and statistical modeling \n",
    "4. ata visualization: Libraries like Matplotlib and Seaborn are used for creating static, interactive, and animated visualizations \n",
    "5. Scientific computing: Libraries like NumPy and SciPy are used for scientific and technical computing \n",
    "6. Web development: Libraries like Django and Flask are used for web development \n",
    "7. Image processing: Libraries like Pillow and OpenCV are used for image processing "
   ]
  },
  {
   "cell_type": "raw",
   "id": "83d766c1-dfcd-4c86-96ba-5472486b3e98",
   "metadata": {},
   "source": [
    "Q2. What is the difference between Numpy array and List?"
   ]
  },
  {
   "cell_type": "raw",
   "id": "826a01dc-79a8-42c7-b17e-3f3477cdf6b2",
   "metadata": {},
   "source": [
    "Ans- A NumPy array is a specialized data structure designed for efficient numerical\n",
    "computations, requiring all elements to be of the same data type, while a Python list\n",
    "is a more flexible general-purpose data structure that can hold elements of different \n",
    "data types, making NumPy arrays significantly faster for large-scale mathematical \n",
    "operations on data, especially when compared to lists which are slower for such tasks. \n",
    "\n",
    "KEY DIFFERENCE BETWEEN LIST AND ARRAY IN NUMPY:\n",
    "1. SPEED: NumPy arrays are significantly faster for mathematical operations due to their optimized\n",
    "memory allocation and vectorized operations, which can perform calculations on entire arrays at once\n",
    "\n",
    "2. BUILD: Numpy array is fast because it build on c++ language and python used as framwork \n",
    "for numpy as we knows c++ is faster than python so the main processing part written in c++.\n",
    "\n",
    "3. Memory Allocation: NumPy arrays are more memory efficient because they store data in contiguous \n",
    "blocks of memory, whereas list actually stores memory address of variables, variable may be stored\n",
    "randomly in diffrent locations.\n",
    "\n",
    "4. Time: in list it have to check space, diffrent datatypes but in array size is fixed and it stores\n",
    "only one type of data type so Nnumpy array takes less time.\n",
    "\n",
    "5. Flexibility: Python lists offer greater flexibility for manipulating data as elements can be easily\n",
    "added, removed, or modified individually, while modifying a NumPy array often requires creating a new array."
   ]
  },
  {
   "cell_type": "raw",
   "id": "722cec08-7480-4bfe-b391-dc6040f3ae6f",
   "metadata": {},
   "source": [
    "Q3. Find the shape, size and dimension of the following array?\n",
    "[[1, 2, 3, 4]\n",
    "[5, 6, 7, 8],\n",
    "[9, 10, 11, 12]]"
   ]
  },
  {
   "cell_type": "code",
   "execution_count": 75,
   "id": "b7e72139-a114-48cb-ac3b-a663c4ee34b0",
   "metadata": {},
   "outputs": [],
   "source": [
    "# Ans\n",
    "import numpy as np\n",
    "arr=np.array([[1,2,3,4],[5,6,7,8],[9,10,11,12]])"
   ]
  },
  {
   "cell_type": "code",
   "execution_count": 4,
   "id": "973ac0b4-b7af-4c29-a5f3-f0b4d9f41c24",
   "metadata": {},
   "outputs": [
    {
     "data": {
      "text/plain": [
       "(3, 4)"
      ]
     },
     "execution_count": 4,
     "metadata": {},
     "output_type": "execute_result"
    }
   ],
   "source": [
    "arr.shape"
   ]
  },
  {
   "cell_type": "code",
   "execution_count": 5,
   "id": "880ce144-b569-404d-aa1f-5a9015b0800f",
   "metadata": {},
   "outputs": [
    {
     "data": {
      "text/plain": [
       "12"
      ]
     },
     "execution_count": 5,
     "metadata": {},
     "output_type": "execute_result"
    }
   ],
   "source": [
    "arr.size"
   ]
  },
  {
   "cell_type": "code",
   "execution_count": 6,
   "id": "ddc77e34-6f8d-441a-b15b-1c5567c84ad0",
   "metadata": {},
   "outputs": [
    {
     "data": {
      "text/plain": [
       "2"
      ]
     },
     "execution_count": 6,
     "metadata": {},
     "output_type": "execute_result"
    }
   ],
   "source": [
    "arr.ndim"
   ]
  },
  {
   "cell_type": "raw",
   "id": "8ee74691-1d24-4896-b57f-8411345aac6c",
   "metadata": {},
   "source": [
    "Q4. Write python code to access the first row of the following array?\n",
    "[[1, 2, 3, 4]\n",
    "[5, 6, 7, 8],\n",
    "[9, 10, 11, 12]]"
   ]
  },
  {
   "cell_type": "code",
   "execution_count": 7,
   "id": "d5531855-0636-413c-b40f-2d445c8e078d",
   "metadata": {},
   "outputs": [
    {
     "data": {
      "text/plain": [
       "array([1, 2, 3, 4])"
      ]
     },
     "execution_count": 7,
     "metadata": {},
     "output_type": "execute_result"
    }
   ],
   "source": [
    "#Ans-\n",
    "arr[0]"
   ]
  },
  {
   "cell_type": "raw",
   "id": "9eaabfbd-f6b6-4d93-87b5-f86d9effd775",
   "metadata": {},
   "source": [
    "Q5. How do you access the element at the third row and fourth column from the given numpy array?\n",
    "[[1, 2, 3, 4]\n",
    "[5, 6, 7, 8],\n",
    "[9, 10, 11, 12]]"
   ]
  },
  {
   "cell_type": "code",
   "execution_count": 11,
   "id": "582843f0-7cdc-4e4f-86ca-e31c1994de7a",
   "metadata": {},
   "outputs": [
    {
     "data": {
      "text/plain": [
       "np.int64(12)"
      ]
     },
     "execution_count": 11,
     "metadata": {},
     "output_type": "execute_result"
    }
   ],
   "source": [
    "arr[2][3]"
   ]
  },
  {
   "cell_type": "raw",
   "id": "88102f33-9806-47e8-bace-274021c3b8c8",
   "metadata": {},
   "source": [
    "Q6. Write code to extract all odd-indexed elements from the given numpy array?\n",
    "[[1, 2, 3, 4]\n",
    "[5, 6, 7, 8],\n",
    "[9, 10, 11, 12]]"
   ]
  },
  {
   "cell_type": "code",
   "execution_count": 21,
   "id": "a1936828-103b-45c8-9113-170c3fb05312",
   "metadata": {},
   "outputs": [
    {
     "data": {
      "text/plain": [
       "array([[ 1,  3],\n",
       "       [ 5,  7],\n",
       "       [ 9, 11]])"
      ]
     },
     "execution_count": 21,
     "metadata": {},
     "output_type": "execute_result"
    }
   ],
   "source": [
    "arr[0:3,[0,2]]\n",
    "\n"
   ]
  },
  {
   "cell_type": "raw",
   "id": "e0ae39eb-f343-4292-88d1-0e987b8d2023",
   "metadata": {},
   "source": [
    "Q7. How can you generate a random 3x3 matrix with values between 0 and 1?"
   ]
  },
  {
   "cell_type": "code",
   "execution_count": 22,
   "id": "52b44465-598c-4211-bc61-66288d6eb93d",
   "metadata": {},
   "outputs": [
    {
     "data": {
      "text/plain": [
       "array([[0., 0., 0.],\n",
       "       [0., 0., 0.],\n",
       "       [0., 0., 0.]])"
      ]
     },
     "execution_count": 22,
     "metadata": {},
     "output_type": "execute_result"
    }
   ],
   "source": [
    "#Ans\n",
    "np.zeros((3,3))"
   ]
  },
  {
   "cell_type": "code",
   "execution_count": 23,
   "id": "79e6c224-6e8c-45e8-9773-cda8c83a8fff",
   "metadata": {},
   "outputs": [
    {
     "data": {
      "text/plain": [
       "array([[1., 1., 1.],\n",
       "       [1., 1., 1.],\n",
       "       [1., 1., 1.]])"
      ]
     },
     "execution_count": 23,
     "metadata": {},
     "output_type": "execute_result"
    }
   ],
   "source": [
    "np.ones((3,3))"
   ]
  },
  {
   "cell_type": "raw",
   "id": "0a86ffe8-4ed6-4c90-8a07-69c85992aa67",
   "metadata": {},
   "source": [
    "Q8. Describe the difference between np.random.rand and np.random.randn?"
   ]
  },
  {
   "cell_type": "raw",
   "id": "5a6b5505-b20c-4816-9846-f8c7cb8a4737",
   "metadata": {},
   "source": [
    "Ans- In NumPy, \"np.random.rand\" generates random numbers from a uniform distribution between 0 and 1\n",
    "(inclusive of 0, exclusive of 1), while \"np.random.randn\" generates random numbers from a standard normal\n",
    "distribution  with a mean of 0 and a standard deviation of 1; essentially, rand gives a flat distribution\n",
    "across the range [0, 1) while randn produces a bell-curve shaped distribution centered around 0. \n",
    "Example: of np.random.rand"
   ]
  },
  {
   "cell_type": "code",
   "execution_count": 25,
   "id": "f63b6035-d19d-4179-b594-ab4d5566e553",
   "metadata": {},
   "outputs": [
    {
     "data": {
      "text/plain": [
       "array([[0.80214793, 0.74938013, 0.18610421],\n",
       "       [0.20035621, 0.18989774, 0.43139719],\n",
       "       [0.40721116, 0.52815682, 0.84751115]])"
      ]
     },
     "execution_count": 25,
     "metadata": {},
     "output_type": "execute_result"
    }
   ],
   "source": [
    "np.random.rand(3,3)"
   ]
  },
  {
   "cell_type": "code",
   "execution_count": 26,
   "id": "1b5aa846-b9f6-4706-b2d3-ab8710bd2fb2",
   "metadata": {},
   "outputs": [
    {
     "data": {
      "text/plain": [
       "array([[ 1.95575411, -2.38570179,  0.15066201],\n",
       "       [-0.722788  ,  1.17351941,  0.3038571 ],\n",
       "       [-0.31206272,  0.47664153, -2.88715384]])"
      ]
     },
     "execution_count": 26,
     "metadata": {},
     "output_type": "execute_result"
    }
   ],
   "source": [
    "np.random.randn(3,3)"
   ]
  },
  {
   "cell_type": "raw",
   "id": "90d95a65-3bcb-4d7a-bde5-18c5a3868d19",
   "metadata": {},
   "source": [
    "Q9. Write code to increase the dimension of the following array?\n",
    "[[1, 2, 3, 4]\n",
    "[5, 6, 7, 8],\n",
    "[9, 10, 11, 12]]"
   ]
  },
  {
   "cell_type": "code",
   "execution_count": 31,
   "id": "1406afd5-2536-4dc3-9e17-6b28f9e41633",
   "metadata": {},
   "outputs": [],
   "source": [
    "arr2=np.expand_dims(arr,axis=0)"
   ]
  },
  {
   "cell_type": "code",
   "execution_count": 32,
   "id": "e78f18e7-6472-4a68-93ec-f6e6a2328368",
   "metadata": {},
   "outputs": [
    {
     "data": {
      "text/plain": [
       "3"
      ]
     },
     "execution_count": 32,
     "metadata": {},
     "output_type": "execute_result"
    }
   ],
   "source": [
    "arr2.ndim"
   ]
  },
  {
   "cell_type": "markdown",
   "id": "5b8af43c-27fa-4549-b073-e012c47cf7ac",
   "metadata": {},
   "source": [
    "converted 3 dimention from 2 dimention"
   ]
  },
  {
   "cell_type": "raw",
   "id": "e5e2256a-9612-4efa-8a13-ed6cb02d3384",
   "metadata": {},
   "source": [
    "10. How to transpose the following array in NumPy?\n",
    "[[1, 2, 3, 4]\n",
    "[5, 6, 7, 8],\n",
    "[9, 10, 11, 12]]"
   ]
  },
  {
   "cell_type": "code",
   "execution_count": 33,
   "id": "0e41dc32-2192-49aa-b701-e2283539a3b9",
   "metadata": {},
   "outputs": [
    {
     "data": {
      "text/plain": [
       "array([[ 1,  5,  9],\n",
       "       [ 2,  6, 10],\n",
       "       [ 3,  7, 11],\n",
       "       [ 4,  8, 12]])"
      ]
     },
     "execution_count": 33,
     "metadata": {},
     "output_type": "execute_result"
    }
   ],
   "source": [
    "arr.T"
   ]
  },
  {
   "cell_type": "raw",
   "id": "ab065f2a-f1f9-4550-97ca-c8ca2a791d35",
   "metadata": {},
   "source": [
    "11. Consider the following matrix:\n",
    "Matrix A: [[1, 2, 3, 4] [5, 6, 7, 8],[9, 10, 11, 12]]\n",
    "Matrix B: [[1, 2, 3, 4] [5, 6, 7, 8],[9, 10, 11, 12]]"
   ]
  },
  {
   "cell_type": "code",
   "execution_count": 57,
   "id": "e89e7e68-82da-40a4-84df-68aae37fe5a7",
   "metadata": {},
   "outputs": [
    {
     "data": {
      "text/plain": [
       "array([[  1,   4,   9,  16],\n",
       "       [ 25,  36,  49,  64],\n",
       "       [ 81, 100, 121, 144]])"
      ]
     },
     "execution_count": 57,
     "metadata": {},
     "output_type": "execute_result"
    }
   ],
   "source": [
    "A=np.array([[1,2,3,4],[5,6,7,8],[9,10,11,12]])\n",
    "B=np.array([[1,2,3,4],[5,6,7,8],[9,10,11,12]])\n",
    "#1 Index wise multiplicatio\n",
    "A*B\n"
   ]
  },
  {
   "cell_type": "code",
   "execution_count": 61,
   "id": "5586e47f-231c-4123-92c5-06223e5b10c9",
   "metadata": {},
   "outputs": [
    {
     "ename": "ValueError",
     "evalue": "matmul: Input operand 1 has a mismatch in its core dimension 0, with gufunc signature (n?,k),(k,m?)->(n?,m?) (size 3 is different from 4)",
     "output_type": "error",
     "traceback": [
      "\u001b[1;31m---------------------------------------------------------------------------\u001b[0m",
      "\u001b[1;31mValueError\u001b[0m                                Traceback (most recent call last)",
      "Cell \u001b[1;32mIn[61], line 2\u001b[0m\n\u001b[0;32m      1\u001b[0m \u001b[38;5;66;03m#2 Matrix multiplication\u001b[39;00m\n\u001b[1;32m----> 2\u001b[0m \u001b[43mA\u001b[49m\u001b[38;5;129;43m@B\u001b[39;49m\n\u001b[0;32m      3\u001b[0m \u001b[38;5;66;03m#its not possible because n != p , matrix is (3,4) and (3,4) and 4 != 3\u001b[39;00m\n",
      "\u001b[1;31mValueError\u001b[0m: matmul: Input operand 1 has a mismatch in its core dimension 0, with gufunc signature (n?,k),(k,m?)->(n?,m?) (size 3 is different from 4)"
     ]
    }
   ],
   "source": [
    "#2 Matrix multiplication\n",
    "A@B\n",
    "#its not possible because n != p , matrix is (3,4) and (3,4) and 4 != 3\n",
    "#that why it will give error"
   ]
  },
  {
   "cell_type": "code",
   "execution_count": 63,
   "id": "3265d445-46ce-4cd4-bf90-582fa14a4f3c",
   "metadata": {},
   "outputs": [
    {
     "data": {
      "text/plain": [
       "array([[ 2,  4,  6,  8],\n",
       "       [10, 12, 14, 16],\n",
       "       [18, 20, 22, 24]])"
      ]
     },
     "execution_count": 63,
     "metadata": {},
     "output_type": "execute_result"
    }
   ],
   "source": [
    "#3 Add both the matrics\n",
    "A+B"
   ]
  },
  {
   "cell_type": "code",
   "execution_count": 60,
   "id": "aaa9d9d0-1bdb-4f82-8d10-50dc1de5cb0e",
   "metadata": {},
   "outputs": [
    {
     "data": {
      "text/plain": [
       "array([[ 1,  2,  3,  4],\n",
       "       [ 5,  6,  7,  8],\n",
       "       [ 9, 10, 11, 12]])"
      ]
     },
     "execution_count": 60,
     "metadata": {},
     "output_type": "execute_result"
    }
   ],
   "source": []
  },
  {
   "cell_type": "code",
   "execution_count": 64,
   "id": "da48eb75-6547-4d7d-86e3-f6104805e6fd",
   "metadata": {},
   "outputs": [
    {
     "data": {
      "text/plain": [
       "array([[0, 0, 0, 0],\n",
       "       [0, 0, 0, 0],\n",
       "       [0, 0, 0, 0]])"
      ]
     },
     "execution_count": 64,
     "metadata": {},
     "output_type": "execute_result"
    }
   ],
   "source": [
    "#4 Subtract matrix B from A\n",
    "A-B"
   ]
  },
  {
   "cell_type": "code",
   "execution_count": 65,
   "id": "b83491d4-b3d5-4cbe-bf35-aaecbeb4d560",
   "metadata": {},
   "outputs": [
    {
     "data": {
      "text/plain": [
       "array([[1., 1., 1., 1.],\n",
       "       [1., 1., 1., 1.],\n",
       "       [1., 1., 1., 1.]])"
      ]
     },
     "execution_count": 65,
     "metadata": {},
     "output_type": "execute_result"
    }
   ],
   "source": [
    "#5 Divide Matrix B by A\n",
    "B/A"
   ]
  },
  {
   "cell_type": "raw",
   "id": "ccd10704-39c7-49b0-9bf2-68f5ffdc2377",
   "metadata": {},
   "source": [
    "Q12. Which function in Numpy can be used to swap the byte order of an array?"
   ]
  },
  {
   "cell_type": "code",
   "execution_count": 72,
   "id": "cb69fdda-e330-46f6-b72c-229911c4b111",
   "metadata": {
    "scrolled": true
   },
   "outputs": [
    {
     "data": {
      "text/plain": [
       "array([[ 72057594037927936, 144115188075855872, 216172782113783808,\n",
       "        288230376151711744],\n",
       "       [360287970189639680, 432345564227567616, 504403158265495552,\n",
       "        576460752303423488],\n",
       "       [648518346341351424, 720575940379279360, 792633534417207296,\n",
       "        864691128455135232]])"
      ]
     },
     "execution_count": 72,
     "metadata": {},
     "output_type": "execute_result"
    }
   ],
   "source": [
    "#Ans- byteswap() function to swap the byte order of an array.\n",
    "arr.byteswap(inplace=True)"
   ]
  },
  {
   "cell_type": "raw",
   "id": "27381f54-4b9b-47cd-adc3-5e1b235b5cea",
   "metadata": {},
   "source": [
    "Q13. What is the significance of the np.linalg.inv function?"
   ]
  },
  {
   "cell_type": "raw",
   "id": "7df4a878-fa47-4a9f-9539-1e69b343e5f0",
   "metadata": {},
   "source": [
    "The np.linalg.inv function in NumPy is used to compute the inverse of a square matrix. It is part of\n",
    "the numpy.linalg module, which provides functions for linear algebra operations.\n",
    "1.Matrix Inversion\n",
    "2.Solving linear system"
   ]
  },
  {
   "cell_type": "code",
   "execution_count": 83,
   "id": "9bb9c1ca-bc91-485a-b4ec-e53f2a56ef76",
   "metadata": {},
   "outputs": [
    {
     "data": {
      "text/plain": [
       "array([[-2. ,  1. ],\n",
       "       [ 1.5, -0.5]])"
      ]
     },
     "execution_count": 83,
     "metadata": {},
     "output_type": "execute_result"
    }
   ],
   "source": [
    "a=np.array([[1,2],[3,4]])\n",
    "np.linalg.inv(a)"
   ]
  },
  {
   "cell_type": "markdown",
   "id": "ae8401a1-22ea-4f3b-bfb9-c92268645c7c",
   "metadata": {},
   "source": [
    "Inverse matrix"
   ]
  },
  {
   "cell_type": "raw",
   "id": "9f2d0fb1-6a12-421d-a0fe-0f8e5f6437d9",
   "metadata": {},
   "source": [
    "Q14. What does the np.reshape function do, and how is it used?"
   ]
  },
  {
   "cell_type": "raw",
   "id": "e62ebce7-4b7e-4775-aa3a-e0254a6f2f11",
   "metadata": {},
   "source": [
    "Ans- The reshape() function in NumPy is used to change the shape (dimensions) of an existing array without \n",
    "altering its data. It allows you to rearrange the elements of the array into a new shape while keeping the\n",
    "total number of elements constant.\n",
    "The reshape can only happen in size which is multiple of total elements in array\n",
    "Ex.arr has (3,4) size and have total 12 element"
   ]
  },
  {
   "cell_type": "code",
   "execution_count": 76,
   "id": "2050e89c-8497-43de-85b7-8cfb5ae47725",
   "metadata": {},
   "outputs": [
    {
     "data": {
      "text/plain": [
       "array([[ 1,  2,  3,  4],\n",
       "       [ 5,  6,  7,  8],\n",
       "       [ 9, 10, 11, 12]])"
      ]
     },
     "execution_count": 76,
     "metadata": {},
     "output_type": "execute_result"
    }
   ],
   "source": [
    "arr"
   ]
  },
  {
   "cell_type": "code",
   "execution_count": 78,
   "id": "fc162663-8cee-448b-a615-21c3225c0c2c",
   "metadata": {},
   "outputs": [
    {
     "data": {
      "text/plain": [
       "array([[ 1,  2,  3,  4,  5,  6],\n",
       "       [ 7,  8,  9, 10, 11, 12]])"
      ]
     },
     "execution_count": 78,
     "metadata": {},
     "output_type": "execute_result"
    }
   ],
   "source": [
    "arr.reshape(2,6)"
   ]
  },
  {
   "cell_type": "raw",
   "id": "6528875d-0416-4270-bdab-53ad6301a6ad",
   "metadata": {},
   "source": [
    "Q15. What is broadcasting in Numpy?"
   ]
  },
  {
   "cell_type": "raw",
   "id": "bc89a6d5-0a84-4d19-b53b-e7100eddae7a",
   "metadata": {},
   "source": [
    "Ans- Broadcasting in NumPy is a powerful feature that allows operations to be performed on arrays\n",
    "of different shapes and sizes without the need to create explicitly matching dimensions. It automatically\n",
    "expands smaller arrays to match the shape of larger ones during arithmetic operations like addition,\n",
    "subtraction, multiplication, and division.\n",
    "How Broadcasting Works\n",
    "If one array has a smaller dimension, it is \"stretched\" (without copying data) to match the shape of the\n",
    "larger array.\n",
    "\n",
    "Visulisation of broadcast:\n",
    "if A=[1,2,3] and B=|11,12,13|\n",
    "                   |14,15,16|\n",
    "                   |17,18,19|\n",
    "if we need to add these two array A+B\n",
    "so A autometically broad casted in this:\n",
    "\n",
    "|1,2,3|\n",
    "|1,2,3|\n",
    "|1,2,3|   "
   ]
  },
  {
   "cell_type": "code",
   "execution_count": 79,
   "id": "cd965572-8606-4b2e-ac14-688174d5ad9b",
   "metadata": {},
   "outputs": [],
   "source": [
    "A=np.array([1,2,3])\n",
    "B=np.array([[11,12,13],[14,15,16],[17,18,19]])"
   ]
  },
  {
   "cell_type": "code",
   "execution_count": 80,
   "id": "1c47f58f-2e6b-474a-989f-ee7a56765599",
   "metadata": {},
   "outputs": [
    {
     "data": {
      "text/plain": [
       "array([[12, 14, 16],\n",
       "       [15, 17, 19],\n",
       "       [18, 20, 22]])"
      ]
     },
     "execution_count": 80,
     "metadata": {},
     "output_type": "execute_result"
    }
   ],
   "source": [
    "A+B"
   ]
  },
  {
   "cell_type": "code",
   "execution_count": null,
   "id": "feac851b-7b61-4e9a-8c1a-6ff4f1830438",
   "metadata": {},
   "outputs": [],
   "source": []
  }
 ],
 "metadata": {
  "kernelspec": {
   "display_name": "Python 3 (ipykernel)",
   "language": "python",
   "name": "python3"
  },
  "language_info": {
   "codemirror_mode": {
    "name": "ipython",
    "version": 3
   },
   "file_extension": ".py",
   "mimetype": "text/x-python",
   "name": "python",
   "nbconvert_exporter": "python",
   "pygments_lexer": "ipython3",
   "version": "3.12.5"
  }
 },
 "nbformat": 4,
 "nbformat_minor": 5
}
